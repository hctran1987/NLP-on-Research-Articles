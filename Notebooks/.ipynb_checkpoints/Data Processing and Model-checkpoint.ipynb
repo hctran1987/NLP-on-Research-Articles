{
 "cells": [
  {
   "cell_type": "markdown",
   "metadata": {},
   "source": [
    "## 1. Imports and data load"
   ]
  },
  {
   "cell_type": "code",
   "execution_count": 1,
   "metadata": {
    "execution": {
     "iopub.execute_input": "2023-01-26T02:58:47.045367Z",
     "iopub.status.busy": "2023-01-26T02:58:47.045101Z",
     "iopub.status.idle": "2023-01-26T02:58:49.101621Z",
     "shell.execute_reply": "2023-01-26T02:58:49.100664Z",
     "shell.execute_reply.started": "2023-01-26T02:58:47.045342Z"
    }
   },
   "outputs": [
    {
     "name": "stderr",
     "output_type": "stream",
     "text": [
      "2023-01-25 19:09:39.586922: I tensorflow/core/platform/cpu_feature_guard.cc:193] This TensorFlow binary is optimized with oneAPI Deep Neural Network Library (oneDNN) to use the following CPU instructions in performance-critical operations:  AVX2 AVX512F AVX512_VNNI FMA\n",
      "To enable them in other operations, rebuild TensorFlow with the appropriate compiler flags.\n"
     ]
    }
   ],
   "source": [
    "import pandas as pd\n",
    "import nltk\n",
    "import string\n",
    "import matplotlib.pyplot as plt\n",
    "\n",
    "from nltk.corpus import stopwords\n",
    "from nltk import word_tokenize\n",
    "from gensim.models import Word2Vec as w2v\n",
    "from sklearn.decomposition import PCA\n",
    "import tensorflow as tf\n",
    "from tensorflow import keras\n",
    "import re\n",
    "import tensorflow as tf\n",
    "from tensorflow import keras\n",
    "import string\n",
    "from nltk.stem import PorterStemmer\n",
    "\n",
    "from gensim.models import Word2Vec\n",
    "from gensim.models.doc2vec import Doc2Vec, TaggedDocument\n",
    "from sklearn.model_selection import train_test_split\n",
    "import numpy as np\n",
    "from nltk import word_tokenize\n",
    "from sklearn.feature_extraction.text import CountVectorizer, TfidfVectorizer\n",
    "from sklearn.metrics import roc_auc_score, classification_report"
   ]
  },
  {
   "cell_type": "code",
   "execution_count": 2,
   "metadata": {
    "execution": {
     "iopub.execute_input": "2023-01-26T02:58:49.103693Z",
     "iopub.status.busy": "2023-01-26T02:58:49.102980Z",
     "iopub.status.idle": "2023-01-26T02:58:49.468289Z",
     "shell.execute_reply": "2023-01-26T02:58:49.467286Z",
     "shell.execute_reply.started": "2023-01-26T02:58:49.103653Z"
    }
   },
   "outputs": [],
   "source": [
    "df = pd.read_csv('Cleaned_Data.csv')"
   ]
  },
  {
   "cell_type": "code",
   "execution_count": 3,
   "metadata": {
    "execution": {
     "iopub.execute_input": "2023-01-26T02:58:49.471380Z",
     "iopub.status.busy": "2023-01-26T02:58:49.470992Z",
     "iopub.status.idle": "2023-01-26T02:58:49.496275Z",
     "shell.execute_reply": "2023-01-26T02:58:49.495102Z",
     "shell.execute_reply.started": "2023-01-26T02:58:49.471343Z"
    }
   },
   "outputs": [
    {
     "data": {
      "text/html": [
       "<div>\n",
       "<style scoped>\n",
       "    .dataframe tbody tr th:only-of-type {\n",
       "        vertical-align: middle;\n",
       "    }\n",
       "\n",
       "    .dataframe tbody tr th {\n",
       "        vertical-align: top;\n",
       "    }\n",
       "\n",
       "    .dataframe thead th {\n",
       "        text-align: right;\n",
       "    }\n",
       "</style>\n",
       "<table border=\"1\" class=\"dataframe\">\n",
       "  <thead>\n",
       "    <tr style=\"text-align: right;\">\n",
       "      <th></th>\n",
       "      <th>Unnamed: 0</th>\n",
       "      <th>ID</th>\n",
       "      <th>TITLE</th>\n",
       "      <th>ABSTRACT</th>\n",
       "      <th>Computer Science</th>\n",
       "      <th>Physics</th>\n",
       "      <th>Mathematics</th>\n",
       "      <th>Statistics</th>\n",
       "      <th>Quantitative Biology</th>\n",
       "      <th>Quantitative Finance</th>\n",
       "      <th>Number_of_tags</th>\n",
       "      <th>length_of_title</th>\n",
       "      <th>length_of_abstract</th>\n",
       "      <th>TITLE_modified</th>\n",
       "      <th>ABSTRACT_modified</th>\n",
       "    </tr>\n",
       "  </thead>\n",
       "  <tbody>\n",
       "    <tr>\n",
       "      <th>0</th>\n",
       "      <td>0</td>\n",
       "      <td>1</td>\n",
       "      <td>Reconstructing Subject Specific Effect Maps</td>\n",
       "      <td>Predictive models allow subject specific infe...</td>\n",
       "      <td>1</td>\n",
       "      <td>0</td>\n",
       "      <td>0</td>\n",
       "      <td>0</td>\n",
       "      <td>0</td>\n",
       "      <td>0</td>\n",
       "      <td>1</td>\n",
       "      <td>4</td>\n",
       "      <td>265</td>\n",
       "      <td>reconstruct subject specif effect map</td>\n",
       "      <td>predict model allow subject specif infer anal...</td>\n",
       "    </tr>\n",
       "    <tr>\n",
       "      <th>1</th>\n",
       "      <td>1</td>\n",
       "      <td>2</td>\n",
       "      <td>Rotation Invariance Neural Network</td>\n",
       "      <td>Rotation invariance and translation invarianc...</td>\n",
       "      <td>1</td>\n",
       "      <td>0</td>\n",
       "      <td>0</td>\n",
       "      <td>0</td>\n",
       "      <td>0</td>\n",
       "      <td>0</td>\n",
       "      <td>1</td>\n",
       "      <td>4</td>\n",
       "      <td>76</td>\n",
       "      <td>rotat invari neural network</td>\n",
       "      <td>rotat invari translat invari great valu imag ...</td>\n",
       "    </tr>\n",
       "    <tr>\n",
       "      <th>2</th>\n",
       "      <td>2</td>\n",
       "      <td>3</td>\n",
       "      <td>Spherical polyharmonics and Poisson kernels fo...</td>\n",
       "      <td>We introduce and develop the notion of spheri...</td>\n",
       "      <td>0</td>\n",
       "      <td>0</td>\n",
       "      <td>1</td>\n",
       "      <td>0</td>\n",
       "      <td>0</td>\n",
       "      <td>0</td>\n",
       "      <td>1</td>\n",
       "      <td>8</td>\n",
       "      <td>99</td>\n",
       "      <td>spheric polyharmon poisson kernel polyharmon f...</td>\n",
       "      <td>introduc develop notion spheric polyharmon na...</td>\n",
       "    </tr>\n",
       "    <tr>\n",
       "      <th>3</th>\n",
       "      <td>3</td>\n",
       "      <td>4</td>\n",
       "      <td>A finite element approximation for the stochas...</td>\n",
       "      <td>The stochastic Landau Lifshitz Gilbert LLG eq...</td>\n",
       "      <td>0</td>\n",
       "      <td>0</td>\n",
       "      <td>1</td>\n",
       "      <td>0</td>\n",
       "      <td>0</td>\n",
       "      <td>0</td>\n",
       "      <td>1</td>\n",
       "      <td>9</td>\n",
       "      <td>110</td>\n",
       "      <td>finit element approxim stochast maxwel landau ...</td>\n",
       "      <td>stochast landau lifshitz gilbert llg equat co...</td>\n",
       "    </tr>\n",
       "    <tr>\n",
       "      <th>4</th>\n",
       "      <td>5</td>\n",
       "      <td>6</td>\n",
       "      <td>On maximizing the fundamental frequency of the...</td>\n",
       "      <td>Let $\\Omega \\subset \\mathbb R ^n$ be a bounde...</td>\n",
       "      <td>0</td>\n",
       "      <td>0</td>\n",
       "      <td>1</td>\n",
       "      <td>0</td>\n",
       "      <td>0</td>\n",
       "      <td>0</td>\n",
       "      <td>1</td>\n",
       "      <td>11</td>\n",
       "      <td>210</td>\n",
       "      <td>maxim fundament frequenc complement obstacl</td>\n",
       "      <td>let omega subset mathbb r n bound domain sati...</td>\n",
       "    </tr>\n",
       "    <tr>\n",
       "      <th>...</th>\n",
       "      <td>...</td>\n",
       "      <td>...</td>\n",
       "      <td>...</td>\n",
       "      <td>...</td>\n",
       "      <td>...</td>\n",
       "      <td>...</td>\n",
       "      <td>...</td>\n",
       "      <td>...</td>\n",
       "      <td>...</td>\n",
       "      <td>...</td>\n",
       "      <td>...</td>\n",
       "      <td>...</td>\n",
       "      <td>...</td>\n",
       "      <td>...</td>\n",
       "      <td>...</td>\n",
       "    </tr>\n",
       "    <tr>\n",
       "      <th>20238</th>\n",
       "      <td>20967</td>\n",
       "      <td>20968</td>\n",
       "      <td>Contemporary machine learning a guide for prac...</td>\n",
       "      <td>Machine learning is finding increasingly broa...</td>\n",
       "      <td>1</td>\n",
       "      <td>1</td>\n",
       "      <td>0</td>\n",
       "      <td>0</td>\n",
       "      <td>0</td>\n",
       "      <td>0</td>\n",
       "      <td>2</td>\n",
       "      <td>11</td>\n",
       "      <td>194</td>\n",
       "      <td>contemporari machin learn guid practition phys...</td>\n",
       "      <td>machin learn find increasingli broad applic p...</td>\n",
       "    </tr>\n",
       "    <tr>\n",
       "      <th>20239</th>\n",
       "      <td>20968</td>\n",
       "      <td>20969</td>\n",
       "      <td>Uniform diamond coatings on WC Co hard alloy c...</td>\n",
       "      <td>Polycrystalline diamond coatings have been gr...</td>\n",
       "      <td>0</td>\n",
       "      <td>1</td>\n",
       "      <td>0</td>\n",
       "      <td>0</td>\n",
       "      <td>0</td>\n",
       "      <td>0</td>\n",
       "      <td>1</td>\n",
       "      <td>15</td>\n",
       "      <td>134</td>\n",
       "      <td>uniform diamond coat wc co hard alloy cut inse...</td>\n",
       "      <td>polycrystallin diamond coat grown cement carb...</td>\n",
       "    </tr>\n",
       "    <tr>\n",
       "      <th>20240</th>\n",
       "      <td>20969</td>\n",
       "      <td>20970</td>\n",
       "      <td>Analysing Soccer Games with Clustering and Con...</td>\n",
       "      <td>We present a new approach for identifying sit...</td>\n",
       "      <td>1</td>\n",
       "      <td>0</td>\n",
       "      <td>0</td>\n",
       "      <td>0</td>\n",
       "      <td>0</td>\n",
       "      <td>0</td>\n",
       "      <td>1</td>\n",
       "      <td>7</td>\n",
       "      <td>194</td>\n",
       "      <td>analys soccer game cluster conceptor</td>\n",
       "      <td>present new approach identifi situat behaviou...</td>\n",
       "    </tr>\n",
       "    <tr>\n",
       "      <th>20241</th>\n",
       "      <td>20970</td>\n",
       "      <td>20971</td>\n",
       "      <td>On the Efficient Simulation of the Left Tail o...</td>\n",
       "      <td>The sum of Log normal variates is encountered...</td>\n",
       "      <td>0</td>\n",
       "      <td>0</td>\n",
       "      <td>1</td>\n",
       "      <td>1</td>\n",
       "      <td>0</td>\n",
       "      <td>0</td>\n",
       "      <td>2</td>\n",
       "      <td>14</td>\n",
       "      <td>193</td>\n",
       "      <td>effici simul left tail sum correl log normal v...</td>\n",
       "      <td>sum log normal variat encount mani challeng a...</td>\n",
       "    </tr>\n",
       "    <tr>\n",
       "      <th>20242</th>\n",
       "      <td>20971</td>\n",
       "      <td>20972</td>\n",
       "      <td>Why optional stopping is a problem for Bayesians</td>\n",
       "      <td>Recently optional stopping has been a subject...</td>\n",
       "      <td>0</td>\n",
       "      <td>0</td>\n",
       "      <td>1</td>\n",
       "      <td>1</td>\n",
       "      <td>0</td>\n",
       "      <td>0</td>\n",
       "      <td>2</td>\n",
       "      <td>8</td>\n",
       "      <td>144</td>\n",
       "      <td>option stop problem bayesian</td>\n",
       "      <td>recent option stop subject debat bayesian psy...</td>\n",
       "    </tr>\n",
       "  </tbody>\n",
       "</table>\n",
       "<p>20243 rows × 15 columns</p>\n",
       "</div>"
      ],
      "text/plain": [
       "       Unnamed: 0     ID                                              TITLE  \\\n",
       "0               0      1        Reconstructing Subject Specific Effect Maps   \n",
       "1               1      2                 Rotation Invariance Neural Network   \n",
       "2               2      3  Spherical polyharmonics and Poisson kernels fo...   \n",
       "3               3      4  A finite element approximation for the stochas...   \n",
       "4               5      6  On maximizing the fundamental frequency of the...   \n",
       "...           ...    ...                                                ...   \n",
       "20238       20967  20968  Contemporary machine learning a guide for prac...   \n",
       "20239       20968  20969  Uniform diamond coatings on WC Co hard alloy c...   \n",
       "20240       20969  20970  Analysing Soccer Games with Clustering and Con...   \n",
       "20241       20970  20971  On the Efficient Simulation of the Left Tail o...   \n",
       "20242       20971  20972   Why optional stopping is a problem for Bayesians   \n",
       "\n",
       "                                                ABSTRACT  Computer Science  \\\n",
       "0       Predictive models allow subject specific infe...                 1   \n",
       "1       Rotation invariance and translation invarianc...                 1   \n",
       "2       We introduce and develop the notion of spheri...                 0   \n",
       "3       The stochastic Landau Lifshitz Gilbert LLG eq...                 0   \n",
       "4       Let $\\Omega \\subset \\mathbb R ^n$ be a bounde...                 0   \n",
       "...                                                  ...               ...   \n",
       "20238   Machine learning is finding increasingly broa...                 1   \n",
       "20239   Polycrystalline diamond coatings have been gr...                 0   \n",
       "20240   We present a new approach for identifying sit...                 1   \n",
       "20241   The sum of Log normal variates is encountered...                 0   \n",
       "20242   Recently optional stopping has been a subject...                 0   \n",
       "\n",
       "       Physics  Mathematics  Statistics  Quantitative Biology  \\\n",
       "0            0            0           0                     0   \n",
       "1            0            0           0                     0   \n",
       "2            0            1           0                     0   \n",
       "3            0            1           0                     0   \n",
       "4            0            1           0                     0   \n",
       "...        ...          ...         ...                   ...   \n",
       "20238        1            0           0                     0   \n",
       "20239        1            0           0                     0   \n",
       "20240        0            0           0                     0   \n",
       "20241        0            1           1                     0   \n",
       "20242        0            1           1                     0   \n",
       "\n",
       "       Quantitative Finance  Number_of_tags  length_of_title  \\\n",
       "0                         0               1                4   \n",
       "1                         0               1                4   \n",
       "2                         0               1                8   \n",
       "3                         0               1                9   \n",
       "4                         0               1               11   \n",
       "...                     ...             ...              ...   \n",
       "20238                     0               2               11   \n",
       "20239                     0               1               15   \n",
       "20240                     0               1                7   \n",
       "20241                     0               2               14   \n",
       "20242                     0               2                8   \n",
       "\n",
       "       length_of_abstract                                     TITLE_modified  \\\n",
       "0                     265              reconstruct subject specif effect map   \n",
       "1                      76                        rotat invari neural network   \n",
       "2                      99  spheric polyharmon poisson kernel polyharmon f...   \n",
       "3                     110  finit element approxim stochast maxwel landau ...   \n",
       "4                     210        maxim fundament frequenc complement obstacl   \n",
       "...                   ...                                                ...   \n",
       "20238                 194  contemporari machin learn guid practition phys...   \n",
       "20239                 134  uniform diamond coat wc co hard alloy cut inse...   \n",
       "20240                 194               analys soccer game cluster conceptor   \n",
       "20241                 193  effici simul left tail sum correl log normal v...   \n",
       "20242                 144                       option stop problem bayesian   \n",
       "\n",
       "                                       ABSTRACT_modified  \n",
       "0       predict model allow subject specif infer anal...  \n",
       "1       rotat invari translat invari great valu imag ...  \n",
       "2       introduc develop notion spheric polyharmon na...  \n",
       "3       stochast landau lifshitz gilbert llg equat co...  \n",
       "4       let omega subset mathbb r n bound domain sati...  \n",
       "...                                                  ...  \n",
       "20238   machin learn find increasingli broad applic p...  \n",
       "20239   polycrystallin diamond coat grown cement carb...  \n",
       "20240   present new approach identifi situat behaviou...  \n",
       "20241   sum log normal variat encount mani challeng a...  \n",
       "20242   recent option stop subject debat bayesian psy...  \n",
       "\n",
       "[20243 rows x 15 columns]"
      ]
     },
     "execution_count": 3,
     "metadata": {},
     "output_type": "execute_result"
    }
   ],
   "source": [
    "df"
   ]
  },
  {
   "cell_type": "code",
   "execution_count": 4,
   "metadata": {
    "execution": {
     "iopub.execute_input": "2023-01-26T02:58:49.499011Z",
     "iopub.status.busy": "2023-01-26T02:58:49.498539Z",
     "iopub.status.idle": "2023-01-26T02:58:49.527200Z",
     "shell.execute_reply": "2023-01-26T02:58:49.526245Z",
     "shell.execute_reply.started": "2023-01-26T02:58:49.498972Z"
    }
   },
   "outputs": [
    {
     "name": "stdout",
     "output_type": "stream",
     "text": [
      "<class 'pandas.core.frame.DataFrame'>\n",
      "RangeIndex: 20243 entries, 0 to 20242\n",
      "Data columns (total 15 columns):\n",
      " #   Column                Non-Null Count  Dtype \n",
      "---  ------                --------------  ----- \n",
      " 0   Unnamed: 0            20243 non-null  int64 \n",
      " 1   ID                    20243 non-null  int64 \n",
      " 2   TITLE                 20243 non-null  object\n",
      " 3   ABSTRACT              20243 non-null  object\n",
      " 4   Computer Science      20243 non-null  int64 \n",
      " 5   Physics               20243 non-null  int64 \n",
      " 6   Mathematics           20243 non-null  int64 \n",
      " 7   Statistics            20243 non-null  int64 \n",
      " 8   Quantitative Biology  20243 non-null  int64 \n",
      " 9   Quantitative Finance  20243 non-null  int64 \n",
      " 10  Number_of_tags        20243 non-null  int64 \n",
      " 11  length_of_title       20243 non-null  int64 \n",
      " 12  length_of_abstract    20243 non-null  int64 \n",
      " 13  TITLE_modified        20243 non-null  object\n",
      " 14  ABSTRACT_modified     20243 non-null  object\n",
      "dtypes: int64(11), object(4)\n",
      "memory usage: 2.3+ MB\n"
     ]
    }
   ],
   "source": [
    "df.info()"
   ]
  },
  {
   "cell_type": "code",
   "execution_count": 5,
   "metadata": {
    "execution": {
     "iopub.execute_input": "2023-01-26T02:58:49.529356Z",
     "iopub.status.busy": "2023-01-26T02:58:49.528802Z",
     "iopub.status.idle": "2023-01-26T02:58:49.541889Z",
     "shell.execute_reply": "2023-01-26T02:58:49.540938Z",
     "shell.execute_reply.started": "2023-01-26T02:58:49.529310Z"
    }
   },
   "outputs": [],
   "source": [
    "drop_index = df[(df['Quantitative Biology'] == 1)\n",
    "                |(df['Quantitative Finance'] == 1)].index\n",
    "df.drop(drop_index, inplace = True)"
   ]
  },
  {
   "cell_type": "code",
   "execution_count": 6,
   "metadata": {
    "execution": {
     "iopub.execute_input": "2023-01-26T02:58:49.544419Z",
     "iopub.status.busy": "2023-01-26T02:58:49.543317Z",
     "iopub.status.idle": "2023-01-26T02:58:49.566516Z",
     "shell.execute_reply": "2023-01-26T02:58:49.565544Z",
     "shell.execute_reply.started": "2023-01-26T02:58:49.544382Z"
    }
   },
   "outputs": [
    {
     "data": {
      "text/html": [
       "<div>\n",
       "<style scoped>\n",
       "    .dataframe tbody tr th:only-of-type {\n",
       "        vertical-align: middle;\n",
       "    }\n",
       "\n",
       "    .dataframe tbody tr th {\n",
       "        vertical-align: top;\n",
       "    }\n",
       "\n",
       "    .dataframe thead th {\n",
       "        text-align: right;\n",
       "    }\n",
       "</style>\n",
       "<table border=\"1\" class=\"dataframe\">\n",
       "  <thead>\n",
       "    <tr style=\"text-align: right;\">\n",
       "      <th></th>\n",
       "      <th>Unnamed: 0</th>\n",
       "      <th>ID</th>\n",
       "      <th>TITLE</th>\n",
       "      <th>ABSTRACT</th>\n",
       "      <th>Computer Science</th>\n",
       "      <th>Physics</th>\n",
       "      <th>Mathematics</th>\n",
       "      <th>Statistics</th>\n",
       "      <th>Quantitative Biology</th>\n",
       "      <th>Quantitative Finance</th>\n",
       "      <th>Number_of_tags</th>\n",
       "      <th>length_of_title</th>\n",
       "      <th>length_of_abstract</th>\n",
       "      <th>TITLE_modified</th>\n",
       "      <th>ABSTRACT_modified</th>\n",
       "    </tr>\n",
       "  </thead>\n",
       "  <tbody>\n",
       "    <tr>\n",
       "      <th>0</th>\n",
       "      <td>0</td>\n",
       "      <td>1</td>\n",
       "      <td>Reconstructing Subject Specific Effect Maps</td>\n",
       "      <td>Predictive models allow subject specific infe...</td>\n",
       "      <td>1</td>\n",
       "      <td>0</td>\n",
       "      <td>0</td>\n",
       "      <td>0</td>\n",
       "      <td>0</td>\n",
       "      <td>0</td>\n",
       "      <td>1</td>\n",
       "      <td>4</td>\n",
       "      <td>265</td>\n",
       "      <td>reconstruct subject specif effect map</td>\n",
       "      <td>predict model allow subject specif infer anal...</td>\n",
       "    </tr>\n",
       "    <tr>\n",
       "      <th>1</th>\n",
       "      <td>1</td>\n",
       "      <td>2</td>\n",
       "      <td>Rotation Invariance Neural Network</td>\n",
       "      <td>Rotation invariance and translation invarianc...</td>\n",
       "      <td>1</td>\n",
       "      <td>0</td>\n",
       "      <td>0</td>\n",
       "      <td>0</td>\n",
       "      <td>0</td>\n",
       "      <td>0</td>\n",
       "      <td>1</td>\n",
       "      <td>4</td>\n",
       "      <td>76</td>\n",
       "      <td>rotat invari neural network</td>\n",
       "      <td>rotat invari translat invari great valu imag ...</td>\n",
       "    </tr>\n",
       "    <tr>\n",
       "      <th>2</th>\n",
       "      <td>2</td>\n",
       "      <td>3</td>\n",
       "      <td>Spherical polyharmonics and Poisson kernels fo...</td>\n",
       "      <td>We introduce and develop the notion of spheri...</td>\n",
       "      <td>0</td>\n",
       "      <td>0</td>\n",
       "      <td>1</td>\n",
       "      <td>0</td>\n",
       "      <td>0</td>\n",
       "      <td>0</td>\n",
       "      <td>1</td>\n",
       "      <td>8</td>\n",
       "      <td>99</td>\n",
       "      <td>spheric polyharmon poisson kernel polyharmon f...</td>\n",
       "      <td>introduc develop notion spheric polyharmon na...</td>\n",
       "    </tr>\n",
       "    <tr>\n",
       "      <th>3</th>\n",
       "      <td>3</td>\n",
       "      <td>4</td>\n",
       "      <td>A finite element approximation for the stochas...</td>\n",
       "      <td>The stochastic Landau Lifshitz Gilbert LLG eq...</td>\n",
       "      <td>0</td>\n",
       "      <td>0</td>\n",
       "      <td>1</td>\n",
       "      <td>0</td>\n",
       "      <td>0</td>\n",
       "      <td>0</td>\n",
       "      <td>1</td>\n",
       "      <td>9</td>\n",
       "      <td>110</td>\n",
       "      <td>finit element approxim stochast maxwel landau ...</td>\n",
       "      <td>stochast landau lifshitz gilbert llg equat co...</td>\n",
       "    </tr>\n",
       "    <tr>\n",
       "      <th>4</th>\n",
       "      <td>5</td>\n",
       "      <td>6</td>\n",
       "      <td>On maximizing the fundamental frequency of the...</td>\n",
       "      <td>Let $\\Omega \\subset \\mathbb R ^n$ be a bounde...</td>\n",
       "      <td>0</td>\n",
       "      <td>0</td>\n",
       "      <td>1</td>\n",
       "      <td>0</td>\n",
       "      <td>0</td>\n",
       "      <td>0</td>\n",
       "      <td>1</td>\n",
       "      <td>11</td>\n",
       "      <td>210</td>\n",
       "      <td>maxim fundament frequenc complement obstacl</td>\n",
       "      <td>let omega subset mathbb r n bound domain sati...</td>\n",
       "    </tr>\n",
       "    <tr>\n",
       "      <th>...</th>\n",
       "      <td>...</td>\n",
       "      <td>...</td>\n",
       "      <td>...</td>\n",
       "      <td>...</td>\n",
       "      <td>...</td>\n",
       "      <td>...</td>\n",
       "      <td>...</td>\n",
       "      <td>...</td>\n",
       "      <td>...</td>\n",
       "      <td>...</td>\n",
       "      <td>...</td>\n",
       "      <td>...</td>\n",
       "      <td>...</td>\n",
       "      <td>...</td>\n",
       "      <td>...</td>\n",
       "    </tr>\n",
       "    <tr>\n",
       "      <th>20238</th>\n",
       "      <td>20967</td>\n",
       "      <td>20968</td>\n",
       "      <td>Contemporary machine learning a guide for prac...</td>\n",
       "      <td>Machine learning is finding increasingly broa...</td>\n",
       "      <td>1</td>\n",
       "      <td>1</td>\n",
       "      <td>0</td>\n",
       "      <td>0</td>\n",
       "      <td>0</td>\n",
       "      <td>0</td>\n",
       "      <td>2</td>\n",
       "      <td>11</td>\n",
       "      <td>194</td>\n",
       "      <td>contemporari machin learn guid practition phys...</td>\n",
       "      <td>machin learn find increasingli broad applic p...</td>\n",
       "    </tr>\n",
       "    <tr>\n",
       "      <th>20239</th>\n",
       "      <td>20968</td>\n",
       "      <td>20969</td>\n",
       "      <td>Uniform diamond coatings on WC Co hard alloy c...</td>\n",
       "      <td>Polycrystalline diamond coatings have been gr...</td>\n",
       "      <td>0</td>\n",
       "      <td>1</td>\n",
       "      <td>0</td>\n",
       "      <td>0</td>\n",
       "      <td>0</td>\n",
       "      <td>0</td>\n",
       "      <td>1</td>\n",
       "      <td>15</td>\n",
       "      <td>134</td>\n",
       "      <td>uniform diamond coat wc co hard alloy cut inse...</td>\n",
       "      <td>polycrystallin diamond coat grown cement carb...</td>\n",
       "    </tr>\n",
       "    <tr>\n",
       "      <th>20240</th>\n",
       "      <td>20969</td>\n",
       "      <td>20970</td>\n",
       "      <td>Analysing Soccer Games with Clustering and Con...</td>\n",
       "      <td>We present a new approach for identifying sit...</td>\n",
       "      <td>1</td>\n",
       "      <td>0</td>\n",
       "      <td>0</td>\n",
       "      <td>0</td>\n",
       "      <td>0</td>\n",
       "      <td>0</td>\n",
       "      <td>1</td>\n",
       "      <td>7</td>\n",
       "      <td>194</td>\n",
       "      <td>analys soccer game cluster conceptor</td>\n",
       "      <td>present new approach identifi situat behaviou...</td>\n",
       "    </tr>\n",
       "    <tr>\n",
       "      <th>20241</th>\n",
       "      <td>20970</td>\n",
       "      <td>20971</td>\n",
       "      <td>On the Efficient Simulation of the Left Tail o...</td>\n",
       "      <td>The sum of Log normal variates is encountered...</td>\n",
       "      <td>0</td>\n",
       "      <td>0</td>\n",
       "      <td>1</td>\n",
       "      <td>1</td>\n",
       "      <td>0</td>\n",
       "      <td>0</td>\n",
       "      <td>2</td>\n",
       "      <td>14</td>\n",
       "      <td>193</td>\n",
       "      <td>effici simul left tail sum correl log normal v...</td>\n",
       "      <td>sum log normal variat encount mani challeng a...</td>\n",
       "    </tr>\n",
       "    <tr>\n",
       "      <th>20242</th>\n",
       "      <td>20971</td>\n",
       "      <td>20972</td>\n",
       "      <td>Why optional stopping is a problem for Bayesians</td>\n",
       "      <td>Recently optional stopping has been a subject...</td>\n",
       "      <td>0</td>\n",
       "      <td>0</td>\n",
       "      <td>1</td>\n",
       "      <td>1</td>\n",
       "      <td>0</td>\n",
       "      <td>0</td>\n",
       "      <td>2</td>\n",
       "      <td>8</td>\n",
       "      <td>144</td>\n",
       "      <td>option stop problem bayesian</td>\n",
       "      <td>recent option stop subject debat bayesian psy...</td>\n",
       "    </tr>\n",
       "  </tbody>\n",
       "</table>\n",
       "<p>19444 rows × 15 columns</p>\n",
       "</div>"
      ],
      "text/plain": [
       "       Unnamed: 0     ID                                              TITLE  \\\n",
       "0               0      1        Reconstructing Subject Specific Effect Maps   \n",
       "1               1      2                 Rotation Invariance Neural Network   \n",
       "2               2      3  Spherical polyharmonics and Poisson kernels fo...   \n",
       "3               3      4  A finite element approximation for the stochas...   \n",
       "4               5      6  On maximizing the fundamental frequency of the...   \n",
       "...           ...    ...                                                ...   \n",
       "20238       20967  20968  Contemporary machine learning a guide for prac...   \n",
       "20239       20968  20969  Uniform diamond coatings on WC Co hard alloy c...   \n",
       "20240       20969  20970  Analysing Soccer Games with Clustering and Con...   \n",
       "20241       20970  20971  On the Efficient Simulation of the Left Tail o...   \n",
       "20242       20971  20972   Why optional stopping is a problem for Bayesians   \n",
       "\n",
       "                                                ABSTRACT  Computer Science  \\\n",
       "0       Predictive models allow subject specific infe...                 1   \n",
       "1       Rotation invariance and translation invarianc...                 1   \n",
       "2       We introduce and develop the notion of spheri...                 0   \n",
       "3       The stochastic Landau Lifshitz Gilbert LLG eq...                 0   \n",
       "4       Let $\\Omega \\subset \\mathbb R ^n$ be a bounde...                 0   \n",
       "...                                                  ...               ...   \n",
       "20238   Machine learning is finding increasingly broa...                 1   \n",
       "20239   Polycrystalline diamond coatings have been gr...                 0   \n",
       "20240   We present a new approach for identifying sit...                 1   \n",
       "20241   The sum of Log normal variates is encountered...                 0   \n",
       "20242   Recently optional stopping has been a subject...                 0   \n",
       "\n",
       "       Physics  Mathematics  Statistics  Quantitative Biology  \\\n",
       "0            0            0           0                     0   \n",
       "1            0            0           0                     0   \n",
       "2            0            1           0                     0   \n",
       "3            0            1           0                     0   \n",
       "4            0            1           0                     0   \n",
       "...        ...          ...         ...                   ...   \n",
       "20238        1            0           0                     0   \n",
       "20239        1            0           0                     0   \n",
       "20240        0            0           0                     0   \n",
       "20241        0            1           1                     0   \n",
       "20242        0            1           1                     0   \n",
       "\n",
       "       Quantitative Finance  Number_of_tags  length_of_title  \\\n",
       "0                         0               1                4   \n",
       "1                         0               1                4   \n",
       "2                         0               1                8   \n",
       "3                         0               1                9   \n",
       "4                         0               1               11   \n",
       "...                     ...             ...              ...   \n",
       "20238                     0               2               11   \n",
       "20239                     0               1               15   \n",
       "20240                     0               1                7   \n",
       "20241                     0               2               14   \n",
       "20242                     0               2                8   \n",
       "\n",
       "       length_of_abstract                                     TITLE_modified  \\\n",
       "0                     265              reconstruct subject specif effect map   \n",
       "1                      76                        rotat invari neural network   \n",
       "2                      99  spheric polyharmon poisson kernel polyharmon f...   \n",
       "3                     110  finit element approxim stochast maxwel landau ...   \n",
       "4                     210        maxim fundament frequenc complement obstacl   \n",
       "...                   ...                                                ...   \n",
       "20238                 194  contemporari machin learn guid practition phys...   \n",
       "20239                 134  uniform diamond coat wc co hard alloy cut inse...   \n",
       "20240                 194               analys soccer game cluster conceptor   \n",
       "20241                 193  effici simul left tail sum correl log normal v...   \n",
       "20242                 144                       option stop problem bayesian   \n",
       "\n",
       "                                       ABSTRACT_modified  \n",
       "0       predict model allow subject specif infer anal...  \n",
       "1       rotat invari translat invari great valu imag ...  \n",
       "2       introduc develop notion spheric polyharmon na...  \n",
       "3       stochast landau lifshitz gilbert llg equat co...  \n",
       "4       let omega subset mathbb r n bound domain sati...  \n",
       "...                                                  ...  \n",
       "20238   machin learn find increasingli broad applic p...  \n",
       "20239   polycrystallin diamond coat grown cement carb...  \n",
       "20240   present new approach identifi situat behaviou...  \n",
       "20241   sum log normal variat encount mani challeng a...  \n",
       "20242   recent option stop subject debat bayesian psy...  \n",
       "\n",
       "[19444 rows x 15 columns]"
      ]
     },
     "execution_count": 6,
     "metadata": {},
     "output_type": "execute_result"
    }
   ],
   "source": [
    "df"
   ]
  },
  {
   "cell_type": "markdown",
   "metadata": {},
   "source": [
    "## 2. Data processing"
   ]
  },
  {
   "cell_type": "code",
   "execution_count": 7,
   "metadata": {
    "execution": {
     "iopub.execute_input": "2023-01-26T02:58:49.567962Z",
     "iopub.status.busy": "2023-01-26T02:58:49.567681Z",
     "iopub.status.idle": "2023-01-26T02:58:49.577631Z",
     "shell.execute_reply": "2023-01-26T02:58:49.576419Z",
     "shell.execute_reply.started": "2023-01-26T02:58:49.567927Z"
    }
   },
   "outputs": [],
   "source": [
    "#X = df[['TITLE', 'ABSTRACT', 'Number_of_tags', 'length_of_title', \n",
    "#'length_of_abstract']]\n",
    "X = df[['TITLE', 'ABSTRACT', 'TITLE_modified', 'ABSTRACT_modified',\n",
    "        'length_of_title', 'length_of_abstract']]\n",
    "\n",
    "y = df[['Computer Science', 'Physics', 'Mathematics', 'Statistics']]"
   ]
  },
  {
   "cell_type": "code",
   "execution_count": 8,
   "metadata": {
    "execution": {
     "iopub.execute_input": "2023-01-26T02:58:49.579924Z",
     "iopub.status.busy": "2023-01-26T02:58:49.579128Z",
     "iopub.status.idle": "2023-01-26T02:58:49.593738Z",
     "shell.execute_reply": "2023-01-26T02:58:49.592942Z",
     "shell.execute_reply.started": "2023-01-26T02:58:49.579871Z"
    }
   },
   "outputs": [],
   "source": [
    "X_train_val, X_test, y_train_val, y_test = train_test_split(X, y, test_size = 0.2, random_state = 42)"
   ]
  },
  {
   "cell_type": "code",
   "execution_count": 9,
   "metadata": {
    "execution": {
     "iopub.execute_input": "2023-01-26T02:58:49.599106Z",
     "iopub.status.busy": "2023-01-26T02:58:49.598574Z",
     "iopub.status.idle": "2023-01-26T02:58:49.607609Z",
     "shell.execute_reply": "2023-01-26T02:58:49.606846Z",
     "shell.execute_reply.started": "2023-01-26T02:58:49.599067Z"
    }
   },
   "outputs": [],
   "source": [
    "X_train, X_val, y_train, y_val = train_test_split(X_train_val, y_train_val, test_size = 0.2, random_state = 42)"
   ]
  },
  {
   "cell_type": "code",
   "execution_count": 10,
   "metadata": {
    "execution": {
     "iopub.execute_input": "2023-01-26T02:58:49.610889Z",
     "iopub.status.busy": "2023-01-26T02:58:49.610212Z",
     "iopub.status.idle": "2023-01-26T02:58:49.616580Z",
     "shell.execute_reply": "2023-01-26T02:58:49.615789Z",
     "shell.execute_reply.started": "2023-01-26T02:58:49.610851Z"
    }
   },
   "outputs": [],
   "source": [
    "def vectorize_fit(function, data):\n",
    "    tf1 = function\n",
    "    tf1.fit(data['TITLE_modified'])\n",
    "    tf2 = function\n",
    "    tf2.fit(data['ABSTRACT_modified'])\n",
    "    return (tf1, tf2)"
   ]
  },
  {
   "cell_type": "code",
   "execution_count": 11,
   "metadata": {
    "execution": {
     "iopub.execute_input": "2023-01-26T02:58:49.618497Z",
     "iopub.status.busy": "2023-01-26T02:58:49.617838Z",
     "iopub.status.idle": "2023-01-26T02:58:49.627877Z",
     "shell.execute_reply": "2023-01-26T02:58:49.626972Z",
     "shell.execute_reply.started": "2023-01-26T02:58:49.618443Z"
    }
   },
   "outputs": [],
   "source": [
    "def vectorize_transform(function, data):\n",
    "    data1 = function[0].transform(data['TITLE_modified'])\n",
    "    data2 = function[1].transform(data['ABSTRACT_modified'])\n",
    "    data = tf.concat([tf.convert_to_tensor(data1.toarray()),\n",
    "                 tf.convert_to_tensor(data2.toarray())], axis = 1)\n",
    "    return data"
   ]
  },
  {
   "cell_type": "code",
   "execution_count": 12,
   "metadata": {
    "execution": {
     "iopub.execute_input": "2023-01-26T02:58:49.629824Z",
     "iopub.status.busy": "2023-01-26T02:58:49.629235Z",
     "iopub.status.idle": "2023-01-26T02:58:50.526506Z",
     "shell.execute_reply": "2023-01-26T02:58:50.525438Z",
     "shell.execute_reply.started": "2023-01-26T02:58:49.629789Z"
    }
   },
   "outputs": [],
   "source": [
    "function = vectorize_fit(CountVectorizer(), X_train[['TITLE_modified'\n",
    "                                                     , 'ABSTRACT_modified']])"
   ]
  },
  {
   "cell_type": "code",
   "execution_count": 13,
   "metadata": {
    "execution": {
     "iopub.execute_input": "2023-01-26T02:58:50.528330Z",
     "iopub.status.busy": "2023-01-26T02:58:50.527943Z",
     "iopub.status.idle": "2023-01-26T02:59:08.512672Z",
     "shell.execute_reply": "2023-01-26T02:59:08.511613Z",
     "shell.execute_reply.started": "2023-01-26T02:58:50.528289Z"
    }
   },
   "outputs": [
    {
     "name": "stderr",
     "output_type": "stream",
     "text": [
      "2023-01-25 19:09:53.340570: I tensorflow/core/platform/cpu_feature_guard.cc:193] This TensorFlow binary is optimized with oneAPI Deep Neural Network Library (oneDNN) to use the following CPU instructions in performance-critical operations:  AVX2 AVX512F AVX512_VNNI FMA\n",
      "To enable them in other operations, rebuild TensorFlow with the appropriate compiler flags.\n"
     ]
    }
   ],
   "source": [
    "data_train_text = vectorize_transform(function, X_train[['TITLE_modified', 'ABSTRACT_modified']])\n",
    "data_val_text = vectorize_transform(function, X_val[['TITLE_modified', 'ABSTRACT_modified']])\n",
    "data_test_text = vectorize_transform(function, X_test[['TITLE_modified', 'ABSTRACT_modified']])"
   ]
  },
  {
   "cell_type": "code",
   "execution_count": 14,
   "metadata": {
    "execution": {
     "iopub.execute_input": "2023-01-26T02:59:08.514927Z",
     "iopub.status.busy": "2023-01-26T02:59:08.514273Z",
     "iopub.status.idle": "2023-01-26T02:59:08.530255Z",
     "shell.execute_reply": "2023-01-26T02:59:08.529249Z",
     "shell.execute_reply.started": "2023-01-26T02:59:08.514884Z"
    }
   },
   "outputs": [],
   "source": [
    "from sklearn.preprocessing import StandardScaler\n",
    "scale = StandardScaler()\n",
    "#data_train_num = scale.fit_transform(X_train[['Number_of_tags',\n",
    "                                     #          'length_of_abstract', \n",
    "                                      #        'length_of_title']])\n",
    "#data_val_num = scale.transform(X_val[['Number_of_tags', \n",
    "                                     #     'length_of_abstract',\n",
    "                                    #      'length_of_title']])\n",
    "#data_test_num = scale.transform(X_test[['Number_of_tags', \n",
    "                                     #     'length_of_abstract',\n",
    "                                     #     'length_of_title']])\n",
    "\n",
    "data_train_num = scale.fit_transform(X_train[['length_of_abstract', \n",
    "                                              'length_of_title']])\n",
    "data_val_num = scale.transform(X_val[['length_of_abstract',\n",
    "                                          'length_of_title']])\n",
    "data_test_num = scale.transform(X_test[['length_of_abstract',\n",
    "                                          'length_of_title']])"
   ]
  },
  {
   "cell_type": "code",
   "execution_count": 15,
   "metadata": {
    "execution": {
     "iopub.execute_input": "2023-01-26T02:59:08.532290Z",
     "iopub.status.busy": "2023-01-26T02:59:08.531882Z",
     "iopub.status.idle": "2023-01-26T02:59:08.541376Z",
     "shell.execute_reply": "2023-01-26T02:59:08.540406Z",
     "shell.execute_reply.started": "2023-01-26T02:59:08.532249Z"
    }
   },
   "outputs": [],
   "source": [
    "data_train_num = tf.convert_to_tensor(data_train_num)\n",
    "data_val_num = tf.convert_to_tensor(data_val_num)\n",
    "data_test_num = tf.convert_to_tensor(data_test_num)"
   ]
  },
  {
   "cell_type": "code",
   "execution_count": 16,
   "metadata": {
    "execution": {
     "iopub.execute_input": "2023-01-26T02:59:08.543326Z",
     "iopub.status.busy": "2023-01-26T02:59:08.542975Z",
     "iopub.status.idle": "2023-01-26T02:59:08.550966Z",
     "shell.execute_reply": "2023-01-26T02:59:08.549732Z",
     "shell.execute_reply.started": "2023-01-26T02:59:08.543290Z"
    }
   },
   "outputs": [],
   "source": [
    "data_train = [data_train_text, data_train_num]\n",
    "data_val = [data_val_text, data_val_num]\n",
    "data_test = [data_test_text, data_test_num]"
   ]
  },
  {
   "cell_type": "markdown",
   "metadata": {},
   "source": [
    "## 3. Model"
   ]
  },
  {
   "cell_type": "markdown",
   "metadata": {},
   "source": [
    "## 3.1 Model training"
   ]
  },
  {
   "cell_type": "code",
   "execution_count": 17,
   "metadata": {
    "execution": {
     "iopub.execute_input": "2023-01-26T02:59:08.553075Z",
     "iopub.status.busy": "2023-01-26T02:59:08.552660Z",
     "iopub.status.idle": "2023-01-26T02:59:08.561997Z",
     "shell.execute_reply": "2023-01-26T02:59:08.561035Z",
     "shell.execute_reply.started": "2023-01-26T02:59:08.553028Z"
    }
   },
   "outputs": [],
   "source": [
    "def create_model():\n",
    "    input1 = tf.keras.Input(shape=(data_train[0].shape[1]))\n",
    "    t1 = tf.keras.layers.Dense(200, activation='relu')(input1)\n",
    "    t1 = tf.keras.layers.Dense(100, activation='relu')(t1)\n",
    "    t1 = tf.keras.layers.Dense(50, activation='sigmoid')(t1)\n",
    "    input2 = keras.Input(shape=(data_train[1].shape[1]))\n",
    "    x = tf.concat([t1, input2],-1)\n",
    "    output = keras.layers.Dense(4, activation='sigmoid')(x)\n",
    "    model = keras.Model(inputs=[input1, input2], outputs=output)\n",
    "    return model\n",
    "    \n"
   ]
  },
  {
   "cell_type": "code",
   "execution_count": 18,
   "metadata": {
    "execution": {
     "iopub.execute_input": "2023-01-26T02:59:08.564032Z",
     "iopub.status.busy": "2023-01-26T02:59:08.563613Z",
     "iopub.status.idle": "2023-01-26T02:59:08.572240Z",
     "shell.execute_reply": "2023-01-26T02:59:08.571090Z",
     "shell.execute_reply.started": "2023-01-26T02:59:08.563997Z"
    }
   },
   "outputs": [],
   "source": [
    "def model_fit(model, data_train, target_train, data_val, target_val):\n",
    "    model.compile(loss='binary_crossentropy',\n",
    "       optimizer='sgd',\n",
    "       metrics=['binary_accuracy'])\n",
    "    early_stopping = tf.keras.callbacks.EarlyStopping(monitor='val_loss', \n",
    "                                                 patience=5)\n",
    "    history = model.fit([data_train[0], data_train[1]], \n",
    "                      target_train, epochs=80,\n",
    "           validation_data=([data_val[0], data_val[1]],\n",
    "                            target_val), callbacks=[early_stopping])\n",
    "    \n",
    "    \n",
    "    "
   ]
  },
  {
   "cell_type": "code",
   "execution_count": 19,
   "metadata": {
    "execution": {
     "iopub.execute_input": "2023-01-26T02:59:08.574221Z",
     "iopub.status.busy": "2023-01-26T02:59:08.573711Z",
     "iopub.status.idle": "2023-01-26T02:59:08.586562Z",
     "shell.execute_reply": "2023-01-26T02:59:08.585464Z",
     "shell.execute_reply.started": "2023-01-26T02:59:08.574185Z"
    }
   },
   "outputs": [],
   "source": [
    "def model_predict(model, data):\n",
    "    y_proba_pred = model.predict([data[0], data[1]])\n",
    "    y_pred = (y_proba_pred >= np.array([0.5, 0.5, 0.5, 0.5]))\n",
    "    return (y_proba_pred, y_pred) "
   ]
  },
  {
   "cell_type": "code",
   "execution_count": 20,
   "metadata": {
    "execution": {
     "iopub.execute_input": "2023-01-26T02:59:08.588925Z",
     "iopub.status.busy": "2023-01-26T02:59:08.588181Z",
     "iopub.status.idle": "2023-01-26T02:59:09.551793Z",
     "shell.execute_reply": "2023-01-26T02:59:09.550779Z",
     "shell.execute_reply.started": "2023-01-26T02:59:08.588890Z"
    }
   },
   "outputs": [],
   "source": [
    "model = create_model()"
   ]
  },
  {
   "cell_type": "code",
   "execution_count": null,
   "metadata": {
    "execution": {
     "iopub.execute_input": "2023-01-26T02:59:09.553433Z",
     "iopub.status.busy": "2023-01-26T02:59:09.553071Z",
     "iopub.status.idle": "2023-01-26T03:02:41.493047Z",
     "shell.execute_reply": "2023-01-26T03:02:41.491989Z",
     "shell.execute_reply.started": "2023-01-26T02:59:09.553397Z"
    }
   },
   "outputs": [
    {
     "name": "stdout",
     "output_type": "stream",
     "text": [
      "Epoch 1/80\n",
      "389/389 [==============================] - 22s 56ms/step - loss: 0.6466 - binary_accuracy: 0.6326 - val_loss: 0.6090 - val_binary_accuracy: 0.6818\n",
      "Epoch 2/80\n",
      "312/389 [=======================>......] - ETA: 3s - loss: 0.6017 - binary_accuracy: 0.6838"
     ]
    }
   ],
   "source": [
    "model_fit(model, data_train, y_train, data_val, y_val)"
   ]
  },
  {
   "cell_type": "markdown",
   "metadata": {},
   "source": [
    "## 3.2 Model prediction on the test set"
   ]
  },
  {
   "cell_type": "code",
   "execution_count": null,
   "metadata": {
    "execution": {
     "iopub.execute_input": "2023-01-26T03:02:41.495297Z",
     "iopub.status.busy": "2023-01-26T03:02:41.494933Z",
     "iopub.status.idle": "2023-01-26T03:03:39.325797Z",
     "shell.execute_reply": "2023-01-26T03:03:39.324759Z",
     "shell.execute_reply.started": "2023-01-26T03:02:41.495259Z"
    }
   },
   "outputs": [],
   "source": [
    "y_test_proba_pred, y_test_pred = model_predict(model, data_test)"
   ]
  },
  {
   "cell_type": "code",
   "execution_count": null,
   "metadata": {
    "execution": {
     "iopub.execute_input": "2023-01-26T03:03:39.327545Z",
     "iopub.status.busy": "2023-01-26T03:03:39.327169Z",
     "iopub.status.idle": "2023-01-26T03:03:39.333848Z",
     "shell.execute_reply": "2023-01-26T03:03:39.332854Z",
     "shell.execute_reply.started": "2023-01-26T03:03:39.327507Z"
    }
   },
   "outputs": [],
   "source": [
    "df_test_target_pred = pd.DataFrame(y_test_pred, columns = ['Computer Science', \n",
    "                                               'Physics', 'Mathematics',\n",
    "                                              'Statistics'])"
   ]
  },
  {
   "cell_type": "code",
   "execution_count": null,
   "metadata": {
    "execution": {
     "iopub.execute_input": "2023-01-26T03:03:39.336117Z",
     "iopub.status.busy": "2023-01-26T03:03:39.335139Z",
     "iopub.status.idle": "2023-01-26T03:03:39.349231Z",
     "shell.execute_reply": "2023-01-26T03:03:39.348209Z",
     "shell.execute_reply.started": "2023-01-26T03:03:39.336080Z"
    }
   },
   "outputs": [],
   "source": [
    "df_test_pred = pd.concat([X_test[['TITLE', 'ABSTRACT']].reset_index(), \n",
    "                          df_test_target_pred], \n",
    "                         axis = 1)"
   ]
  },
  {
   "cell_type": "code",
   "execution_count": null,
   "metadata": {
    "execution": {
     "iopub.execute_input": "2023-01-26T03:03:39.351029Z",
     "iopub.status.busy": "2023-01-26T03:03:39.350509Z",
     "iopub.status.idle": "2023-01-26T03:03:39.373012Z",
     "shell.execute_reply": "2023-01-26T03:03:39.371832Z",
     "shell.execute_reply.started": "2023-01-26T03:03:39.350992Z"
    }
   },
   "outputs": [],
   "source": [
    "print('Predict tags on papers of the test sets:\\n')\n",
    "df_test_pred"
   ]
  },
  {
   "cell_type": "code",
   "execution_count": null,
   "metadata": {
    "execution": {
     "iopub.execute_input": "2023-01-26T03:03:39.375041Z",
     "iopub.status.busy": "2023-01-26T03:03:39.374637Z",
     "iopub.status.idle": "2023-01-26T03:03:39.382485Z",
     "shell.execute_reply": "2023-01-26T03:03:39.381503Z",
     "shell.execute_reply.started": "2023-01-26T03:03:39.375006Z"
    }
   },
   "outputs": [],
   "source": [
    "df_test_target_proba_pred = pd.DataFrame(y_test_proba_pred, \n",
    "                                         columns = ['Computer Science', \n",
    "                                               'Physics', 'Mathematics',\n",
    "                                              'Statistics'])"
   ]
  },
  {
   "cell_type": "code",
   "execution_count": null,
   "metadata": {
    "execution": {
     "iopub.execute_input": "2023-01-26T03:03:39.389072Z",
     "iopub.status.busy": "2023-01-26T03:03:39.388600Z",
     "iopub.status.idle": "2023-01-26T03:03:39.397107Z",
     "shell.execute_reply": "2023-01-26T03:03:39.396153Z",
     "shell.execute_reply.started": "2023-01-26T03:03:39.389037Z"
    }
   },
   "outputs": [],
   "source": [
    "df_test_proba_pred = pd.concat([X_test[['TITLE', 'ABSTRACT']].reset_index(), \n",
    "                                df_test_target_proba_pred], \n",
    "                         axis = 1)"
   ]
  },
  {
   "cell_type": "code",
   "execution_count": null,
   "metadata": {
    "execution": {
     "iopub.execute_input": "2023-01-26T03:03:39.399229Z",
     "iopub.status.busy": "2023-01-26T03:03:39.398737Z",
     "iopub.status.idle": "2023-01-26T03:03:39.419313Z",
     "shell.execute_reply": "2023-01-26T03:03:39.418200Z",
     "shell.execute_reply.started": "2023-01-26T03:03:39.399193Z"
    }
   },
   "outputs": [],
   "source": [
    "print('Predict tag probability on papers of the test sets:\\n')\n",
    "df_test_proba_pred"
   ]
  },
  {
   "cell_type": "markdown",
   "metadata": {},
   "source": [
    "## 4. Model performance evaluation"
   ]
  },
  {
   "cell_type": "markdown",
   "metadata": {},
   "source": [
    "## 4.1 Performance on Computer Science subject"
   ]
  },
  {
   "cell_type": "code",
   "execution_count": null,
   "metadata": {
    "execution": {
     "iopub.execute_input": "2023-01-26T03:03:39.421348Z",
     "iopub.status.busy": "2023-01-26T03:03:39.420979Z",
     "iopub.status.idle": "2023-01-26T03:03:39.432671Z",
     "shell.execute_reply": "2023-01-26T03:03:39.431549Z",
     "shell.execute_reply.started": "2023-01-26T03:03:39.421312Z"
    }
   },
   "outputs": [],
   "source": [
    "print('The AUC socre:', \n",
    "      roc_auc_score(y_test['Computer Science'], \n",
    "                    df_test_proba_pred['Computer Science']))"
   ]
  },
  {
   "cell_type": "code",
   "execution_count": null,
   "metadata": {
    "execution": {
     "iopub.execute_input": "2023-01-26T03:03:39.434904Z",
     "iopub.status.busy": "2023-01-26T03:03:39.434477Z",
     "iopub.status.idle": "2023-01-26T03:03:39.452539Z",
     "shell.execute_reply": "2023-01-26T03:03:39.451305Z",
     "shell.execute_reply.started": "2023-01-26T03:03:39.434870Z"
    }
   },
   "outputs": [],
   "source": [
    "print('Classification report:\\n', \n",
    "      classification_report(y_test['Computer Science'], df_test_pred['Computer Science']))"
   ]
  },
  {
   "cell_type": "markdown",
   "metadata": {},
   "source": [
    "## 4.2 Performance on Physics subject"
   ]
  },
  {
   "cell_type": "code",
   "execution_count": null,
   "metadata": {
    "execution": {
     "iopub.execute_input": "2023-01-26T03:03:39.454498Z",
     "iopub.status.busy": "2023-01-26T03:03:39.454237Z",
     "iopub.status.idle": "2023-01-26T03:03:39.466156Z",
     "shell.execute_reply": "2023-01-26T03:03:39.464984Z",
     "shell.execute_reply.started": "2023-01-26T03:03:39.454473Z"
    }
   },
   "outputs": [],
   "source": [
    "print('The AUC socre:', \n",
    "      roc_auc_score(y_test['Physics'], df_test_proba_pred['Physics']))"
   ]
  },
  {
   "cell_type": "code",
   "execution_count": null,
   "metadata": {
    "execution": {
     "iopub.execute_input": "2023-01-26T03:03:39.468292Z",
     "iopub.status.busy": "2023-01-26T03:03:39.467564Z",
     "iopub.status.idle": "2023-01-26T03:03:39.484478Z",
     "shell.execute_reply": "2023-01-26T03:03:39.483589Z",
     "shell.execute_reply.started": "2023-01-26T03:03:39.468257Z"
    }
   },
   "outputs": [],
   "source": [
    "print('Classification report:\\n', \n",
    "      classification_report(y_test['Physics'], df_test_pred['Physics']))"
   ]
  },
  {
   "cell_type": "markdown",
   "metadata": {},
   "source": [
    "## 4.3 Performance on Mathematics subject "
   ]
  },
  {
   "cell_type": "code",
   "execution_count": null,
   "metadata": {
    "execution": {
     "iopub.execute_input": "2023-01-26T03:03:39.487512Z",
     "iopub.status.busy": "2023-01-26T03:03:39.486878Z",
     "iopub.status.idle": "2023-01-26T03:03:39.495871Z",
     "shell.execute_reply": "2023-01-26T03:03:39.494784Z",
     "shell.execute_reply.started": "2023-01-26T03:03:39.487429Z"
    }
   },
   "outputs": [],
   "source": [
    "print('The AUC socre:', \n",
    "      roc_auc_score(y_test['Mathematics'], \n",
    "                    df_test_proba_pred['Mathematics']))"
   ]
  },
  {
   "cell_type": "code",
   "execution_count": null,
   "metadata": {
    "execution": {
     "iopub.execute_input": "2023-01-26T03:03:39.498124Z",
     "iopub.status.busy": "2023-01-26T03:03:39.497262Z",
     "iopub.status.idle": "2023-01-26T03:03:39.513671Z",
     "shell.execute_reply": "2023-01-26T03:03:39.512892Z",
     "shell.execute_reply.started": "2023-01-26T03:03:39.498083Z"
    }
   },
   "outputs": [],
   "source": [
    "print('Classification report:\\n', \n",
    "      classification_report(y_test['Mathematics'], \n",
    "                            df_test_pred['Mathematics']))"
   ]
  },
  {
   "cell_type": "markdown",
   "metadata": {},
   "source": [
    "## 4.4 Performance on Statistics subject"
   ]
  },
  {
   "cell_type": "code",
   "execution_count": null,
   "metadata": {
    "execution": {
     "iopub.execute_input": "2023-01-26T03:03:39.515417Z",
     "iopub.status.busy": "2023-01-26T03:03:39.514845Z",
     "iopub.status.idle": "2023-01-26T03:03:39.524117Z",
     "shell.execute_reply": "2023-01-26T03:03:39.522995Z",
     "shell.execute_reply.started": "2023-01-26T03:03:39.515383Z"
    }
   },
   "outputs": [],
   "source": [
    "print('The AUC socre:', \n",
    "      roc_auc_score(y_test['Statistics'], \n",
    "                    df_test_proba_pred['Statistics']))"
   ]
  },
  {
   "cell_type": "code",
   "execution_count": null,
   "metadata": {
    "execution": {
     "iopub.execute_input": "2023-01-26T03:03:39.526483Z",
     "iopub.status.busy": "2023-01-26T03:03:39.525790Z",
     "iopub.status.idle": "2023-01-26T03:03:39.542246Z",
     "shell.execute_reply": "2023-01-26T03:03:39.541179Z",
     "shell.execute_reply.started": "2023-01-26T03:03:39.526444Z"
    }
   },
   "outputs": [],
   "source": [
    "print('Classification report:\\n', \n",
    "      classification_report(y_test['Statistics'], \n",
    "                            df_test_pred['Statistics']))"
   ]
  }
 ],
 "metadata": {
  "kernelspec": {
   "display_name": "Python 3 (ipykernel)",
   "language": "python",
   "name": "python3"
  },
  "language_info": {
   "codemirror_mode": {
    "name": "ipython",
    "version": 3
   },
   "file_extension": ".py",
   "mimetype": "text/x-python",
   "name": "python",
   "nbconvert_exporter": "python",
   "pygments_lexer": "ipython3",
   "version": "3.9.13"
  }
 },
 "nbformat": 4,
 "nbformat_minor": 4
}
