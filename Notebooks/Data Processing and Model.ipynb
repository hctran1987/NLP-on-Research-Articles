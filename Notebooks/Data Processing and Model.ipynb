{
 "cells": [
  {
   "cell_type": "markdown",
   "metadata": {},
   "source": [
    "## 1. Imports and data load"
   ]
  },
  {
   "cell_type": "code",
   "execution_count": 1,
   "metadata": {
    "execution": {
     "iopub.execute_input": "2023-01-26T02:58:47.045367Z",
     "iopub.status.busy": "2023-01-26T02:58:47.045101Z",
     "iopub.status.idle": "2023-01-26T02:58:49.101621Z",
     "shell.execute_reply": "2023-01-26T02:58:49.100664Z",
     "shell.execute_reply.started": "2023-01-26T02:58:47.045342Z"
    }
   },
   "outputs": [
    {
     "name": "stderr",
     "output_type": "stream",
     "text": [
      "2023-01-25 19:09:39.586922: I tensorflow/core/platform/cpu_feature_guard.cc:193] This TensorFlow binary is optimized with oneAPI Deep Neural Network Library (oneDNN) to use the following CPU instructions in performance-critical operations:  AVX2 AVX512F AVX512_VNNI FMA\n",
      "To enable them in other operations, rebuild TensorFlow with the appropriate compiler flags.\n"
     ]
    }
   ],
   "source": [
    "import pandas as pd\n",
    "import nltk\n",
    "import string\n",
    "import matplotlib.pyplot as plt\n",
    "\n",
    "from nltk.corpus import stopwords\n",
    "from nltk import word_tokenize\n",
    "from gensim.models import Word2Vec as w2v\n",
    "from sklearn.decomposition import PCA\n",
    "import tensorflow as tf\n",
    "from tensorflow import keras\n",
    "import re\n",
    "import tensorflow as tf\n",
    "from tensorflow import keras\n",
    "import string\n",
    "from nltk.stem import PorterStemmer\n",
    "\n",
    "from gensim.models import Word2Vec\n",
    "from gensim.models.doc2vec import Doc2Vec, TaggedDocument\n",
    "from sklearn.model_selection import train_test_split\n",
    "import numpy as np\n",
    "from nltk import word_tokenize\n",
    "from sklearn.feature_extraction.text import CountVectorizer, TfidfVectorizer\n",
    "from sklearn.metrics import roc_auc_score, classification_report"
   ]
  },
  {
   "cell_type": "code",
   "execution_count": 2,
   "metadata": {
    "execution": {
     "iopub.execute_input": "2023-01-26T02:58:49.103693Z",
     "iopub.status.busy": "2023-01-26T02:58:49.102980Z",
     "iopub.status.idle": "2023-01-26T02:58:49.468289Z",
     "shell.execute_reply": "2023-01-26T02:58:49.467286Z",
     "shell.execute_reply.started": "2023-01-26T02:58:49.103653Z"
    }
   },
   "outputs": [],
   "source": [
    "df = pd.read_csv('Cleaned_Data.csv')"
   ]
  },
  {
   "cell_type": "code",
   "execution_count": 3,
   "metadata": {
    "execution": {
     "iopub.execute_input": "2023-01-26T02:58:49.471380Z",
     "iopub.status.busy": "2023-01-26T02:58:49.470992Z",
     "iopub.status.idle": "2023-01-26T02:58:49.496275Z",
     "shell.execute_reply": "2023-01-26T02:58:49.495102Z",
     "shell.execute_reply.started": "2023-01-26T02:58:49.471343Z"
    }
   },
   "outputs": [
    {
     "data": {
      "text/html": [
       "<div>\n",
       "<style scoped>\n",
       "    .dataframe tbody tr th:only-of-type {\n",
       "        vertical-align: middle;\n",
       "    }\n",
       "\n",
       "    .dataframe tbody tr th {\n",
       "        vertical-align: top;\n",
       "    }\n",
       "\n",
       "    .dataframe thead th {\n",
       "        text-align: right;\n",
       "    }\n",
       "</style>\n",
       "<table border=\"1\" class=\"dataframe\">\n",
       "  <thead>\n",
       "    <tr style=\"text-align: right;\">\n",
       "      <th></th>\n",
       "      <th>Unnamed: 0</th>\n",
       "      <th>ID</th>\n",
       "      <th>TITLE</th>\n",
       "      <th>ABSTRACT</th>\n",
       "      <th>Computer Science</th>\n",
       "      <th>Physics</th>\n",
       "      <th>Mathematics</th>\n",
       "      <th>Statistics</th>\n",
       "      <th>Quantitative Biology</th>\n",
       "      <th>Quantitative Finance</th>\n",
       "      <th>Number_of_tags</th>\n",
       "      <th>length_of_title</th>\n",
       "      <th>length_of_abstract</th>\n",
       "      <th>TITLE_modified</th>\n",
       "      <th>ABSTRACT_modified</th>\n",
       "    </tr>\n",
       "  </thead>\n",
       "  <tbody>\n",
       "    <tr>\n",
       "      <th>0</th>\n",
       "      <td>0</td>\n",
       "      <td>1</td>\n",
       "      <td>Reconstructing Subject Specific Effect Maps</td>\n",
       "      <td>Predictive models allow subject specific infe...</td>\n",
       "      <td>1</td>\n",
       "      <td>0</td>\n",
       "      <td>0</td>\n",
       "      <td>0</td>\n",
       "      <td>0</td>\n",
       "      <td>0</td>\n",
       "      <td>1</td>\n",
       "      <td>4</td>\n",
       "      <td>265</td>\n",
       "      <td>reconstruct subject specif effect map</td>\n",
       "      <td>predict model allow subject specif infer anal...</td>\n",
       "    </tr>\n",
       "    <tr>\n",
       "      <th>1</th>\n",
       "      <td>1</td>\n",
       "      <td>2</td>\n",
       "      <td>Rotation Invariance Neural Network</td>\n",
       "      <td>Rotation invariance and translation invarianc...</td>\n",
       "      <td>1</td>\n",
       "      <td>0</td>\n",
       "      <td>0</td>\n",
       "      <td>0</td>\n",
       "      <td>0</td>\n",
       "      <td>0</td>\n",
       "      <td>1</td>\n",
       "      <td>4</td>\n",
       "      <td>76</td>\n",
       "      <td>rotat invari neural network</td>\n",
       "      <td>rotat invari translat invari great valu imag ...</td>\n",
       "    </tr>\n",
       "    <tr>\n",
       "      <th>2</th>\n",
       "      <td>2</td>\n",
       "      <td>3</td>\n",
       "      <td>Spherical polyharmonics and Poisson kernels fo...</td>\n",
       "      <td>We introduce and develop the notion of spheri...</td>\n",
       "      <td>0</td>\n",
       "      <td>0</td>\n",
       "      <td>1</td>\n",
       "      <td>0</td>\n",
       "      <td>0</td>\n",
       "      <td>0</td>\n",
       "      <td>1</td>\n",
       "      <td>8</td>\n",
       "      <td>99</td>\n",
       "      <td>spheric polyharmon poisson kernel polyharmon f...</td>\n",
       "      <td>introduc develop notion spheric polyharmon na...</td>\n",
       "    </tr>\n",
       "    <tr>\n",
       "      <th>3</th>\n",
       "      <td>3</td>\n",
       "      <td>4</td>\n",
       "      <td>A finite element approximation for the stochas...</td>\n",
       "      <td>The stochastic Landau Lifshitz Gilbert LLG eq...</td>\n",
       "      <td>0</td>\n",
       "      <td>0</td>\n",
       "      <td>1</td>\n",
       "      <td>0</td>\n",
       "      <td>0</td>\n",
       "      <td>0</td>\n",
       "      <td>1</td>\n",
       "      <td>9</td>\n",
       "      <td>110</td>\n",
       "      <td>finit element approxim stochast maxwel landau ...</td>\n",
       "      <td>stochast landau lifshitz gilbert llg equat co...</td>\n",
       "    </tr>\n",
       "    <tr>\n",
       "      <th>4</th>\n",
       "      <td>5</td>\n",
       "      <td>6</td>\n",
       "      <td>On maximizing the fundamental frequency of the...</td>\n",
       "      <td>Let $\\Omega \\subset \\mathbb R ^n$ be a bounde...</td>\n",
       "      <td>0</td>\n",
       "      <td>0</td>\n",
       "      <td>1</td>\n",
       "      <td>0</td>\n",
       "      <td>0</td>\n",
       "      <td>0</td>\n",
       "      <td>1</td>\n",
       "      <td>11</td>\n",
       "      <td>210</td>\n",
       "      <td>maxim fundament frequenc complement obstacl</td>\n",
       "      <td>let omega subset mathbb r n bound domain sati...</td>\n",
       "    </tr>\n",
       "    <tr>\n",
       "      <th>...</th>\n",
       "      <td>...</td>\n",
       "      <td>...</td>\n",
       "      <td>...</td>\n",
       "      <td>...</td>\n",
       "      <td>...</td>\n",
       "      <td>...</td>\n",
       "      <td>...</td>\n",
       "      <td>...</td>\n",
       "      <td>...</td>\n",
       "      <td>...</td>\n",
       "      <td>...</td>\n",
       "      <td>...</td>\n",
       "      <td>...</td>\n",
       "      <td>...</td>\n",
       "      <td>...</td>\n",
       "    </tr>\n",
       "    <tr>\n",
       "      <th>20238</th>\n",
       "      <td>20967</td>\n",
       "      <td>20968</td>\n",
       "      <td>Contemporary machine learning a guide for prac...</td>\n",
       "      <td>Machine learning is finding increasingly broa...</td>\n",
       "      <td>1</td>\n",
       "      <td>1</td>\n",
       "      <td>0</td>\n",
       "      <td>0</td>\n",
       "      <td>0</td>\n",
       "      <td>0</td>\n",
       "      <td>2</td>\n",
       "      <td>11</td>\n",
       "      <td>194</td>\n",
       "      <td>contemporari machin learn guid practition phys...</td>\n",
       "      <td>machin learn find increasingli broad applic p...</td>\n",
       "    </tr>\n",
       "    <tr>\n",
       "      <th>20239</th>\n",
       "      <td>20968</td>\n",
       "      <td>20969</td>\n",
       "      <td>Uniform diamond coatings on WC Co hard alloy c...</td>\n",
       "      <td>Polycrystalline diamond coatings have been gr...</td>\n",
       "      <td>0</td>\n",
       "      <td>1</td>\n",
       "      <td>0</td>\n",
       "      <td>0</td>\n",
       "      <td>0</td>\n",
       "      <td>0</td>\n",
       "      <td>1</td>\n",
       "      <td>15</td>\n",
       "      <td>134</td>\n",
       "      <td>uniform diamond coat wc co hard alloy cut inse...</td>\n",
       "      <td>polycrystallin diamond coat grown cement carb...</td>\n",
       "    </tr>\n",
       "    <tr>\n",
       "      <th>20240</th>\n",
       "      <td>20969</td>\n",
       "      <td>20970</td>\n",
       "      <td>Analysing Soccer Games with Clustering and Con...</td>\n",
       "      <td>We present a new approach for identifying sit...</td>\n",
       "      <td>1</td>\n",
       "      <td>0</td>\n",
       "      <td>0</td>\n",
       "      <td>0</td>\n",
       "      <td>0</td>\n",
       "      <td>0</td>\n",
       "      <td>1</td>\n",
       "      <td>7</td>\n",
       "      <td>194</td>\n",
       "      <td>analys soccer game cluster conceptor</td>\n",
       "      <td>present new approach identifi situat behaviou...</td>\n",
       "    </tr>\n",
       "    <tr>\n",
       "      <th>20241</th>\n",
       "      <td>20970</td>\n",
       "      <td>20971</td>\n",
       "      <td>On the Efficient Simulation of the Left Tail o...</td>\n",
       "      <td>The sum of Log normal variates is encountered...</td>\n",
       "      <td>0</td>\n",
       "      <td>0</td>\n",
       "      <td>1</td>\n",
       "      <td>1</td>\n",
       "      <td>0</td>\n",
       "      <td>0</td>\n",
       "      <td>2</td>\n",
       "      <td>14</td>\n",
       "      <td>193</td>\n",
       "      <td>effici simul left tail sum correl log normal v...</td>\n",
       "      <td>sum log normal variat encount mani challeng a...</td>\n",
       "    </tr>\n",
       "    <tr>\n",
       "      <th>20242</th>\n",
       "      <td>20971</td>\n",
       "      <td>20972</td>\n",
       "      <td>Why optional stopping is a problem for Bayesians</td>\n",
       "      <td>Recently optional stopping has been a subject...</td>\n",
       "      <td>0</td>\n",
       "      <td>0</td>\n",
       "      <td>1</td>\n",
       "      <td>1</td>\n",
       "      <td>0</td>\n",
       "      <td>0</td>\n",
       "      <td>2</td>\n",
       "      <td>8</td>\n",
       "      <td>144</td>\n",
       "      <td>option stop problem bayesian</td>\n",
       "      <td>recent option stop subject debat bayesian psy...</td>\n",
       "    </tr>\n",
       "  </tbody>\n",
       "</table>\n",
       "<p>20243 rows × 15 columns</p>\n",
       "</div>"
      ],
      "text/plain": [
       "       Unnamed: 0     ID                                              TITLE  \\\n",
       "0               0      1        Reconstructing Subject Specific Effect Maps   \n",
       "1               1      2                 Rotation Invariance Neural Network   \n",
       "2               2      3  Spherical polyharmonics and Poisson kernels fo...   \n",
       "3               3      4  A finite element approximation for the stochas...   \n",
       "4               5      6  On maximizing the fundamental frequency of the...   \n",
       "...           ...    ...                                                ...   \n",
       "20238       20967  20968  Contemporary machine learning a guide for prac...   \n",
       "20239       20968  20969  Uniform diamond coatings on WC Co hard alloy c...   \n",
       "20240       20969  20970  Analysing Soccer Games with Clustering and Con...   \n",
       "20241       20970  20971  On the Efficient Simulation of the Left Tail o...   \n",
       "20242       20971  20972   Why optional stopping is a problem for Bayesians   \n",
       "\n",
       "                                                ABSTRACT  Computer Science  \\\n",
       "0       Predictive models allow subject specific infe...                 1   \n",
       "1       Rotation invariance and translation invarianc...                 1   \n",
       "2       We introduce and develop the notion of spheri...                 0   \n",
       "3       The stochastic Landau Lifshitz Gilbert LLG eq...                 0   \n",
       "4       Let $\\Omega \\subset \\mathbb R ^n$ be a bounde...                 0   \n",
       "...                                                  ...               ...   \n",
       "20238   Machine learning is finding increasingly broa...                 1   \n",
       "20239   Polycrystalline diamond coatings have been gr...                 0   \n",
       "20240   We present a new approach for identifying sit...                 1   \n",
       "20241   The sum of Log normal variates is encountered...                 0   \n",
       "20242   Recently optional stopping has been a subject...                 0   \n",
       "\n",
       "       Physics  Mathematics  Statistics  Quantitative Biology  \\\n",
       "0            0            0           0                     0   \n",
       "1            0            0           0                     0   \n",
       "2            0            1           0                     0   \n",
       "3            0            1           0                     0   \n",
       "4            0            1           0                     0   \n",
       "...        ...          ...         ...                   ...   \n",
       "20238        1            0           0                     0   \n",
       "20239        1            0           0                     0   \n",
       "20240        0            0           0                     0   \n",
       "20241        0            1           1                     0   \n",
       "20242        0            1           1                     0   \n",
       "\n",
       "       Quantitative Finance  Number_of_tags  length_of_title  \\\n",
       "0                         0               1                4   \n",
       "1                         0               1                4   \n",
       "2                         0               1                8   \n",
       "3                         0               1                9   \n",
       "4                         0               1               11   \n",
       "...                     ...             ...              ...   \n",
       "20238                     0               2               11   \n",
       "20239                     0               1               15   \n",
       "20240                     0               1                7   \n",
       "20241                     0               2               14   \n",
       "20242                     0               2                8   \n",
       "\n",
       "       length_of_abstract                                     TITLE_modified  \\\n",
       "0                     265              reconstruct subject specif effect map   \n",
       "1                      76                        rotat invari neural network   \n",
       "2                      99  spheric polyharmon poisson kernel polyharmon f...   \n",
       "3                     110  finit element approxim stochast maxwel landau ...   \n",
       "4                     210        maxim fundament frequenc complement obstacl   \n",
       "...                   ...                                                ...   \n",
       "20238                 194  contemporari machin learn guid practition phys...   \n",
       "20239                 134  uniform diamond coat wc co hard alloy cut inse...   \n",
       "20240                 194               analys soccer game cluster conceptor   \n",
       "20241                 193  effici simul left tail sum correl log normal v...   \n",
       "20242                 144                       option stop problem bayesian   \n",
       "\n",
       "                                       ABSTRACT_modified  \n",
       "0       predict model allow subject specif infer anal...  \n",
       "1       rotat invari translat invari great valu imag ...  \n",
       "2       introduc develop notion spheric polyharmon na...  \n",
       "3       stochast landau lifshitz gilbert llg equat co...  \n",
       "4       let omega subset mathbb r n bound domain sati...  \n",
       "...                                                  ...  \n",
       "20238   machin learn find increasingli broad applic p...  \n",
       "20239   polycrystallin diamond coat grown cement carb...  \n",
       "20240   present new approach identifi situat behaviou...  \n",
       "20241   sum log normal variat encount mani challeng a...  \n",
       "20242   recent option stop subject debat bayesian psy...  \n",
       "\n",
       "[20243 rows x 15 columns]"
      ]
     },
     "execution_count": 3,
     "metadata": {},
     "output_type": "execute_result"
    }
   ],
   "source": [
    "df"
   ]
  },
  {
   "cell_type": "code",
   "execution_count": 4,
   "metadata": {
    "execution": {
     "iopub.execute_input": "2023-01-26T02:58:49.499011Z",
     "iopub.status.busy": "2023-01-26T02:58:49.498539Z",
     "iopub.status.idle": "2023-01-26T02:58:49.527200Z",
     "shell.execute_reply": "2023-01-26T02:58:49.526245Z",
     "shell.execute_reply.started": "2023-01-26T02:58:49.498972Z"
    }
   },
   "outputs": [
    {
     "name": "stdout",
     "output_type": "stream",
     "text": [
      "<class 'pandas.core.frame.DataFrame'>\n",
      "RangeIndex: 20243 entries, 0 to 20242\n",
      "Data columns (total 15 columns):\n",
      " #   Column                Non-Null Count  Dtype \n",
      "---  ------                --------------  ----- \n",
      " 0   Unnamed: 0            20243 non-null  int64 \n",
      " 1   ID                    20243 non-null  int64 \n",
      " 2   TITLE                 20243 non-null  object\n",
      " 3   ABSTRACT              20243 non-null  object\n",
      " 4   Computer Science      20243 non-null  int64 \n",
      " 5   Physics               20243 non-null  int64 \n",
      " 6   Mathematics           20243 non-null  int64 \n",
      " 7   Statistics            20243 non-null  int64 \n",
      " 8   Quantitative Biology  20243 non-null  int64 \n",
      " 9   Quantitative Finance  20243 non-null  int64 \n",
      " 10  Number_of_tags        20243 non-null  int64 \n",
      " 11  length_of_title       20243 non-null  int64 \n",
      " 12  length_of_abstract    20243 non-null  int64 \n",
      " 13  TITLE_modified        20243 non-null  object\n",
      " 14  ABSTRACT_modified     20243 non-null  object\n",
      "dtypes: int64(11), object(4)\n",
      "memory usage: 2.3+ MB\n"
     ]
    }
   ],
   "source": [
    "df.info()"
   ]
  },
  {
   "cell_type": "code",
   "execution_count": 5,
   "metadata": {
    "execution": {
     "iopub.execute_input": "2023-01-26T02:58:49.529356Z",
     "iopub.status.busy": "2023-01-26T02:58:49.528802Z",
     "iopub.status.idle": "2023-01-26T02:58:49.541889Z",
     "shell.execute_reply": "2023-01-26T02:58:49.540938Z",
     "shell.execute_reply.started": "2023-01-26T02:58:49.529310Z"
    }
   },
   "outputs": [],
   "source": [
    "drop_index = df[(df['Quantitative Biology'] == 1)\n",
    "                |(df['Quantitative Finance'] == 1)].index\n",
    "df.drop(drop_index, inplace = True)"
   ]
  },
  {
   "cell_type": "code",
   "execution_count": 6,
   "metadata": {
    "execution": {
     "iopub.execute_input": "2023-01-26T02:58:49.544419Z",
     "iopub.status.busy": "2023-01-26T02:58:49.543317Z",
     "iopub.status.idle": "2023-01-26T02:58:49.566516Z",
     "shell.execute_reply": "2023-01-26T02:58:49.565544Z",
     "shell.execute_reply.started": "2023-01-26T02:58:49.544382Z"
    }
   },
   "outputs": [
    {
     "data": {
      "text/html": [
       "<div>\n",
       "<style scoped>\n",
       "    .dataframe tbody tr th:only-of-type {\n",
       "        vertical-align: middle;\n",
       "    }\n",
       "\n",
       "    .dataframe tbody tr th {\n",
       "        vertical-align: top;\n",
       "    }\n",
       "\n",
       "    .dataframe thead th {\n",
       "        text-align: right;\n",
       "    }\n",
       "</style>\n",
       "<table border=\"1\" class=\"dataframe\">\n",
       "  <thead>\n",
       "    <tr style=\"text-align: right;\">\n",
       "      <th></th>\n",
       "      <th>Unnamed: 0</th>\n",
       "      <th>ID</th>\n",
       "      <th>TITLE</th>\n",
       "      <th>ABSTRACT</th>\n",
       "      <th>Computer Science</th>\n",
       "      <th>Physics</th>\n",
       "      <th>Mathematics</th>\n",
       "      <th>Statistics</th>\n",
       "      <th>Quantitative Biology</th>\n",
       "      <th>Quantitative Finance</th>\n",
       "      <th>Number_of_tags</th>\n",
       "      <th>length_of_title</th>\n",
       "      <th>length_of_abstract</th>\n",
       "      <th>TITLE_modified</th>\n",
       "      <th>ABSTRACT_modified</th>\n",
       "    </tr>\n",
       "  </thead>\n",
       "  <tbody>\n",
       "    <tr>\n",
       "      <th>0</th>\n",
       "      <td>0</td>\n",
       "      <td>1</td>\n",
       "      <td>Reconstructing Subject Specific Effect Maps</td>\n",
       "      <td>Predictive models allow subject specific infe...</td>\n",
       "      <td>1</td>\n",
       "      <td>0</td>\n",
       "      <td>0</td>\n",
       "      <td>0</td>\n",
       "      <td>0</td>\n",
       "      <td>0</td>\n",
       "      <td>1</td>\n",
       "      <td>4</td>\n",
       "      <td>265</td>\n",
       "      <td>reconstruct subject specif effect map</td>\n",
       "      <td>predict model allow subject specif infer anal...</td>\n",
       "    </tr>\n",
       "    <tr>\n",
       "      <th>1</th>\n",
       "      <td>1</td>\n",
       "      <td>2</td>\n",
       "      <td>Rotation Invariance Neural Network</td>\n",
       "      <td>Rotation invariance and translation invarianc...</td>\n",
       "      <td>1</td>\n",
       "      <td>0</td>\n",
       "      <td>0</td>\n",
       "      <td>0</td>\n",
       "      <td>0</td>\n",
       "      <td>0</td>\n",
       "      <td>1</td>\n",
       "      <td>4</td>\n",
       "      <td>76</td>\n",
       "      <td>rotat invari neural network</td>\n",
       "      <td>rotat invari translat invari great valu imag ...</td>\n",
       "    </tr>\n",
       "    <tr>\n",
       "      <th>2</th>\n",
       "      <td>2</td>\n",
       "      <td>3</td>\n",
       "      <td>Spherical polyharmonics and Poisson kernels fo...</td>\n",
       "      <td>We introduce and develop the notion of spheri...</td>\n",
       "      <td>0</td>\n",
       "      <td>0</td>\n",
       "      <td>1</td>\n",
       "      <td>0</td>\n",
       "      <td>0</td>\n",
       "      <td>0</td>\n",
       "      <td>1</td>\n",
       "      <td>8</td>\n",
       "      <td>99</td>\n",
       "      <td>spheric polyharmon poisson kernel polyharmon f...</td>\n",
       "      <td>introduc develop notion spheric polyharmon na...</td>\n",
       "    </tr>\n",
       "    <tr>\n",
       "      <th>3</th>\n",
       "      <td>3</td>\n",
       "      <td>4</td>\n",
       "      <td>A finite element approximation for the stochas...</td>\n",
       "      <td>The stochastic Landau Lifshitz Gilbert LLG eq...</td>\n",
       "      <td>0</td>\n",
       "      <td>0</td>\n",
       "      <td>1</td>\n",
       "      <td>0</td>\n",
       "      <td>0</td>\n",
       "      <td>0</td>\n",
       "      <td>1</td>\n",
       "      <td>9</td>\n",
       "      <td>110</td>\n",
       "      <td>finit element approxim stochast maxwel landau ...</td>\n",
       "      <td>stochast landau lifshitz gilbert llg equat co...</td>\n",
       "    </tr>\n",
       "    <tr>\n",
       "      <th>4</th>\n",
       "      <td>5</td>\n",
       "      <td>6</td>\n",
       "      <td>On maximizing the fundamental frequency of the...</td>\n",
       "      <td>Let $\\Omega \\subset \\mathbb R ^n$ be a bounde...</td>\n",
       "      <td>0</td>\n",
       "      <td>0</td>\n",
       "      <td>1</td>\n",
       "      <td>0</td>\n",
       "      <td>0</td>\n",
       "      <td>0</td>\n",
       "      <td>1</td>\n",
       "      <td>11</td>\n",
       "      <td>210</td>\n",
       "      <td>maxim fundament frequenc complement obstacl</td>\n",
       "      <td>let omega subset mathbb r n bound domain sati...</td>\n",
       "    </tr>\n",
       "    <tr>\n",
       "      <th>...</th>\n",
       "      <td>...</td>\n",
       "      <td>...</td>\n",
       "      <td>...</td>\n",
       "      <td>...</td>\n",
       "      <td>...</td>\n",
       "      <td>...</td>\n",
       "      <td>...</td>\n",
       "      <td>...</td>\n",
       "      <td>...</td>\n",
       "      <td>...</td>\n",
       "      <td>...</td>\n",
       "      <td>...</td>\n",
       "      <td>...</td>\n",
       "      <td>...</td>\n",
       "      <td>...</td>\n",
       "    </tr>\n",
       "    <tr>\n",
       "      <th>20238</th>\n",
       "      <td>20967</td>\n",
       "      <td>20968</td>\n",
       "      <td>Contemporary machine learning a guide for prac...</td>\n",
       "      <td>Machine learning is finding increasingly broa...</td>\n",
       "      <td>1</td>\n",
       "      <td>1</td>\n",
       "      <td>0</td>\n",
       "      <td>0</td>\n",
       "      <td>0</td>\n",
       "      <td>0</td>\n",
       "      <td>2</td>\n",
       "      <td>11</td>\n",
       "      <td>194</td>\n",
       "      <td>contemporari machin learn guid practition phys...</td>\n",
       "      <td>machin learn find increasingli broad applic p...</td>\n",
       "    </tr>\n",
       "    <tr>\n",
       "      <th>20239</th>\n",
       "      <td>20968</td>\n",
       "      <td>20969</td>\n",
       "      <td>Uniform diamond coatings on WC Co hard alloy c...</td>\n",
       "      <td>Polycrystalline diamond coatings have been gr...</td>\n",
       "      <td>0</td>\n",
       "      <td>1</td>\n",
       "      <td>0</td>\n",
       "      <td>0</td>\n",
       "      <td>0</td>\n",
       "      <td>0</td>\n",
       "      <td>1</td>\n",
       "      <td>15</td>\n",
       "      <td>134</td>\n",
       "      <td>uniform diamond coat wc co hard alloy cut inse...</td>\n",
       "      <td>polycrystallin diamond coat grown cement carb...</td>\n",
       "    </tr>\n",
       "    <tr>\n",
       "      <th>20240</th>\n",
       "      <td>20969</td>\n",
       "      <td>20970</td>\n",
       "      <td>Analysing Soccer Games with Clustering and Con...</td>\n",
       "      <td>We present a new approach for identifying sit...</td>\n",
       "      <td>1</td>\n",
       "      <td>0</td>\n",
       "      <td>0</td>\n",
       "      <td>0</td>\n",
       "      <td>0</td>\n",
       "      <td>0</td>\n",
       "      <td>1</td>\n",
       "      <td>7</td>\n",
       "      <td>194</td>\n",
       "      <td>analys soccer game cluster conceptor</td>\n",
       "      <td>present new approach identifi situat behaviou...</td>\n",
       "    </tr>\n",
       "    <tr>\n",
       "      <th>20241</th>\n",
       "      <td>20970</td>\n",
       "      <td>20971</td>\n",
       "      <td>On the Efficient Simulation of the Left Tail o...</td>\n",
       "      <td>The sum of Log normal variates is encountered...</td>\n",
       "      <td>0</td>\n",
       "      <td>0</td>\n",
       "      <td>1</td>\n",
       "      <td>1</td>\n",
       "      <td>0</td>\n",
       "      <td>0</td>\n",
       "      <td>2</td>\n",
       "      <td>14</td>\n",
       "      <td>193</td>\n",
       "      <td>effici simul left tail sum correl log normal v...</td>\n",
       "      <td>sum log normal variat encount mani challeng a...</td>\n",
       "    </tr>\n",
       "    <tr>\n",
       "      <th>20242</th>\n",
       "      <td>20971</td>\n",
       "      <td>20972</td>\n",
       "      <td>Why optional stopping is a problem for Bayesians</td>\n",
       "      <td>Recently optional stopping has been a subject...</td>\n",
       "      <td>0</td>\n",
       "      <td>0</td>\n",
       "      <td>1</td>\n",
       "      <td>1</td>\n",
       "      <td>0</td>\n",
       "      <td>0</td>\n",
       "      <td>2</td>\n",
       "      <td>8</td>\n",
       "      <td>144</td>\n",
       "      <td>option stop problem bayesian</td>\n",
       "      <td>recent option stop subject debat bayesian psy...</td>\n",
       "    </tr>\n",
       "  </tbody>\n",
       "</table>\n",
       "<p>19444 rows × 15 columns</p>\n",
       "</div>"
      ],
      "text/plain": [
       "       Unnamed: 0     ID                                              TITLE  \\\n",
       "0               0      1        Reconstructing Subject Specific Effect Maps   \n",
       "1               1      2                 Rotation Invariance Neural Network   \n",
       "2               2      3  Spherical polyharmonics and Poisson kernels fo...   \n",
       "3               3      4  A finite element approximation for the stochas...   \n",
       "4               5      6  On maximizing the fundamental frequency of the...   \n",
       "...           ...    ...                                                ...   \n",
       "20238       20967  20968  Contemporary machine learning a guide for prac...   \n",
       "20239       20968  20969  Uniform diamond coatings on WC Co hard alloy c...   \n",
       "20240       20969  20970  Analysing Soccer Games with Clustering and Con...   \n",
       "20241       20970  20971  On the Efficient Simulation of the Left Tail o...   \n",
       "20242       20971  20972   Why optional stopping is a problem for Bayesians   \n",
       "\n",
       "                                                ABSTRACT  Computer Science  \\\n",
       "0       Predictive models allow subject specific infe...                 1   \n",
       "1       Rotation invariance and translation invarianc...                 1   \n",
       "2       We introduce and develop the notion of spheri...                 0   \n",
       "3       The stochastic Landau Lifshitz Gilbert LLG eq...                 0   \n",
       "4       Let $\\Omega \\subset \\mathbb R ^n$ be a bounde...                 0   \n",
       "...                                                  ...               ...   \n",
       "20238   Machine learning is finding increasingly broa...                 1   \n",
       "20239   Polycrystalline diamond coatings have been gr...                 0   \n",
       "20240   We present a new approach for identifying sit...                 1   \n",
       "20241   The sum of Log normal variates is encountered...                 0   \n",
       "20242   Recently optional stopping has been a subject...                 0   \n",
       "\n",
       "       Physics  Mathematics  Statistics  Quantitative Biology  \\\n",
       "0            0            0           0                     0   \n",
       "1            0            0           0                     0   \n",
       "2            0            1           0                     0   \n",
       "3            0            1           0                     0   \n",
       "4            0            1           0                     0   \n",
       "...        ...          ...         ...                   ...   \n",
       "20238        1            0           0                     0   \n",
       "20239        1            0           0                     0   \n",
       "20240        0            0           0                     0   \n",
       "20241        0            1           1                     0   \n",
       "20242        0            1           1                     0   \n",
       "\n",
       "       Quantitative Finance  Number_of_tags  length_of_title  \\\n",
       "0                         0               1                4   \n",
       "1                         0               1                4   \n",
       "2                         0               1                8   \n",
       "3                         0               1                9   \n",
       "4                         0               1               11   \n",
       "...                     ...             ...              ...   \n",
       "20238                     0               2               11   \n",
       "20239                     0               1               15   \n",
       "20240                     0               1                7   \n",
       "20241                     0               2               14   \n",
       "20242                     0               2                8   \n",
       "\n",
       "       length_of_abstract                                     TITLE_modified  \\\n",
       "0                     265              reconstruct subject specif effect map   \n",
       "1                      76                        rotat invari neural network   \n",
       "2                      99  spheric polyharmon poisson kernel polyharmon f...   \n",
       "3                     110  finit element approxim stochast maxwel landau ...   \n",
       "4                     210        maxim fundament frequenc complement obstacl   \n",
       "...                   ...                                                ...   \n",
       "20238                 194  contemporari machin learn guid practition phys...   \n",
       "20239                 134  uniform diamond coat wc co hard alloy cut inse...   \n",
       "20240                 194               analys soccer game cluster conceptor   \n",
       "20241                 193  effici simul left tail sum correl log normal v...   \n",
       "20242                 144                       option stop problem bayesian   \n",
       "\n",
       "                                       ABSTRACT_modified  \n",
       "0       predict model allow subject specif infer anal...  \n",
       "1       rotat invari translat invari great valu imag ...  \n",
       "2       introduc develop notion spheric polyharmon na...  \n",
       "3       stochast landau lifshitz gilbert llg equat co...  \n",
       "4       let omega subset mathbb r n bound domain sati...  \n",
       "...                                                  ...  \n",
       "20238   machin learn find increasingli broad applic p...  \n",
       "20239   polycrystallin diamond coat grown cement carb...  \n",
       "20240   present new approach identifi situat behaviou...  \n",
       "20241   sum log normal variat encount mani challeng a...  \n",
       "20242   recent option stop subject debat bayesian psy...  \n",
       "\n",
       "[19444 rows x 15 columns]"
      ]
     },
     "execution_count": 6,
     "metadata": {},
     "output_type": "execute_result"
    }
   ],
   "source": [
    "df"
   ]
  },
  {
   "cell_type": "markdown",
   "metadata": {},
   "source": [
    "## 2. Data processing"
   ]
  },
  {
   "cell_type": "code",
   "execution_count": 7,
   "metadata": {
    "execution": {
     "iopub.execute_input": "2023-01-26T02:58:49.567962Z",
     "iopub.status.busy": "2023-01-26T02:58:49.567681Z",
     "iopub.status.idle": "2023-01-26T02:58:49.577631Z",
     "shell.execute_reply": "2023-01-26T02:58:49.576419Z",
     "shell.execute_reply.started": "2023-01-26T02:58:49.567927Z"
    }
   },
   "outputs": [],
   "source": [
    "#X = df[['TITLE', 'ABSTRACT', 'Number_of_tags', 'length_of_title', \n",
    "#'length_of_abstract']]\n",
    "X = df[['TITLE', 'ABSTRACT', 'TITLE_modified', 'ABSTRACT_modified',\n",
    "        'length_of_title', 'length_of_abstract']]\n",
    "\n",
    "y = df[['Computer Science', 'Physics', 'Mathematics', 'Statistics']]"
   ]
  },
  {
   "cell_type": "code",
   "execution_count": 8,
   "metadata": {
    "execution": {
     "iopub.execute_input": "2023-01-26T02:58:49.579924Z",
     "iopub.status.busy": "2023-01-26T02:58:49.579128Z",
     "iopub.status.idle": "2023-01-26T02:58:49.593738Z",
     "shell.execute_reply": "2023-01-26T02:58:49.592942Z",
     "shell.execute_reply.started": "2023-01-26T02:58:49.579871Z"
    }
   },
   "outputs": [],
   "source": [
    "X_train_val, X_test, y_train_val, y_test = train_test_split(X, y, test_size = 0.2, random_state = 42)"
   ]
  },
  {
   "cell_type": "code",
   "execution_count": 9,
   "metadata": {
    "execution": {
     "iopub.execute_input": "2023-01-26T02:58:49.599106Z",
     "iopub.status.busy": "2023-01-26T02:58:49.598574Z",
     "iopub.status.idle": "2023-01-26T02:58:49.607609Z",
     "shell.execute_reply": "2023-01-26T02:58:49.606846Z",
     "shell.execute_reply.started": "2023-01-26T02:58:49.599067Z"
    }
   },
   "outputs": [],
   "source": [
    "X_train, X_val, y_train, y_val = train_test_split(X_train_val, y_train_val, test_size = 0.2, random_state = 42)"
   ]
  },
  {
   "cell_type": "code",
   "execution_count": 10,
   "metadata": {
    "execution": {
     "iopub.execute_input": "2023-01-26T02:58:49.610889Z",
     "iopub.status.busy": "2023-01-26T02:58:49.610212Z",
     "iopub.status.idle": "2023-01-26T02:58:49.616580Z",
     "shell.execute_reply": "2023-01-26T02:58:49.615789Z",
     "shell.execute_reply.started": "2023-01-26T02:58:49.610851Z"
    }
   },
   "outputs": [],
   "source": [
    "def vectorize_fit(function, data):\n",
    "    tf1 = function\n",
    "    tf1.fit(data['TITLE_modified'])\n",
    "    tf2 = function\n",
    "    tf2.fit(data['ABSTRACT_modified'])\n",
    "    return (tf1, tf2)"
   ]
  },
  {
   "cell_type": "code",
   "execution_count": 11,
   "metadata": {
    "execution": {
     "iopub.execute_input": "2023-01-26T02:58:49.618497Z",
     "iopub.status.busy": "2023-01-26T02:58:49.617838Z",
     "iopub.status.idle": "2023-01-26T02:58:49.627877Z",
     "shell.execute_reply": "2023-01-26T02:58:49.626972Z",
     "shell.execute_reply.started": "2023-01-26T02:58:49.618443Z"
    }
   },
   "outputs": [],
   "source": [
    "def vectorize_transform(function, data):\n",
    "    data1 = function[0].transform(data['TITLE_modified'])\n",
    "    data2 = function[1].transform(data['ABSTRACT_modified'])\n",
    "    data = tf.concat([tf.convert_to_tensor(data1.toarray()),\n",
    "                 tf.convert_to_tensor(data2.toarray())], axis = 1)\n",
    "    return data"
   ]
  },
  {
   "cell_type": "code",
   "execution_count": 12,
   "metadata": {
    "execution": {
     "iopub.execute_input": "2023-01-26T02:58:49.629824Z",
     "iopub.status.busy": "2023-01-26T02:58:49.629235Z",
     "iopub.status.idle": "2023-01-26T02:58:50.526506Z",
     "shell.execute_reply": "2023-01-26T02:58:50.525438Z",
     "shell.execute_reply.started": "2023-01-26T02:58:49.629789Z"
    }
   },
   "outputs": [],
   "source": [
    "function = vectorize_fit(CountVectorizer(), X_train[['TITLE_modified'\n",
    "                                                     , 'ABSTRACT_modified']])"
   ]
  },
  {
   "cell_type": "code",
   "execution_count": 13,
   "metadata": {
    "execution": {
     "iopub.execute_input": "2023-01-26T02:58:50.528330Z",
     "iopub.status.busy": "2023-01-26T02:58:50.527943Z",
     "iopub.status.idle": "2023-01-26T02:59:08.512672Z",
     "shell.execute_reply": "2023-01-26T02:59:08.511613Z",
     "shell.execute_reply.started": "2023-01-26T02:58:50.528289Z"
    }
   },
   "outputs": [
    {
     "name": "stderr",
     "output_type": "stream",
     "text": [
      "2023-01-25 19:09:53.340570: I tensorflow/core/platform/cpu_feature_guard.cc:193] This TensorFlow binary is optimized with oneAPI Deep Neural Network Library (oneDNN) to use the following CPU instructions in performance-critical operations:  AVX2 AVX512F AVX512_VNNI FMA\n",
      "To enable them in other operations, rebuild TensorFlow with the appropriate compiler flags.\n"
     ]
    }
   ],
   "source": [
    "data_train_text = vectorize_transform(function, X_train[['TITLE_modified', 'ABSTRACT_modified']])\n",
    "data_val_text = vectorize_transform(function, X_val[['TITLE_modified', 'ABSTRACT_modified']])\n",
    "data_test_text = vectorize_transform(function, X_test[['TITLE_modified', 'ABSTRACT_modified']])"
   ]
  },
  {
   "cell_type": "code",
   "execution_count": 14,
   "metadata": {
    "execution": {
     "iopub.execute_input": "2023-01-26T02:59:08.514927Z",
     "iopub.status.busy": "2023-01-26T02:59:08.514273Z",
     "iopub.status.idle": "2023-01-26T02:59:08.530255Z",
     "shell.execute_reply": "2023-01-26T02:59:08.529249Z",
     "shell.execute_reply.started": "2023-01-26T02:59:08.514884Z"
    }
   },
   "outputs": [],
   "source": [
    "from sklearn.preprocessing import StandardScaler\n",
    "scale = StandardScaler()\n",
    "#data_train_num = scale.fit_transform(X_train[['Number_of_tags',\n",
    "                                     #          'length_of_abstract', \n",
    "                                      #        'length_of_title']])\n",
    "#data_val_num = scale.transform(X_val[['Number_of_tags', \n",
    "                                     #     'length_of_abstract',\n",
    "                                    #      'length_of_title']])\n",
    "#data_test_num = scale.transform(X_test[['Number_of_tags', \n",
    "                                     #     'length_of_abstract',\n",
    "                                     #     'length_of_title']])\n",
    "\n",
    "data_train_num = scale.fit_transform(X_train[['length_of_abstract', \n",
    "                                              'length_of_title']])\n",
    "data_val_num = scale.transform(X_val[['length_of_abstract',\n",
    "                                          'length_of_title']])\n",
    "data_test_num = scale.transform(X_test[['length_of_abstract',\n",
    "                                          'length_of_title']])"
   ]
  },
  {
   "cell_type": "code",
   "execution_count": 15,
   "metadata": {
    "execution": {
     "iopub.execute_input": "2023-01-26T02:59:08.532290Z",
     "iopub.status.busy": "2023-01-26T02:59:08.531882Z",
     "iopub.status.idle": "2023-01-26T02:59:08.541376Z",
     "shell.execute_reply": "2023-01-26T02:59:08.540406Z",
     "shell.execute_reply.started": "2023-01-26T02:59:08.532249Z"
    }
   },
   "outputs": [],
   "source": [
    "data_train_num = tf.convert_to_tensor(data_train_num)\n",
    "data_val_num = tf.convert_to_tensor(data_val_num)\n",
    "data_test_num = tf.convert_to_tensor(data_test_num)"
   ]
  },
  {
   "cell_type": "code",
   "execution_count": 16,
   "metadata": {
    "execution": {
     "iopub.execute_input": "2023-01-26T02:59:08.543326Z",
     "iopub.status.busy": "2023-01-26T02:59:08.542975Z",
     "iopub.status.idle": "2023-01-26T02:59:08.550966Z",
     "shell.execute_reply": "2023-01-26T02:59:08.549732Z",
     "shell.execute_reply.started": "2023-01-26T02:59:08.543290Z"
    }
   },
   "outputs": [],
   "source": [
    "data_train = [data_train_text, data_train_num]\n",
    "data_val = [data_val_text, data_val_num]\n",
    "data_test = [data_test_text, data_test_num]"
   ]
  },
  {
   "cell_type": "markdown",
   "metadata": {},
   "source": [
    "## 3. Model"
   ]
  },
  {
   "cell_type": "markdown",
   "metadata": {},
   "source": [
    "## 3.1 Model training"
   ]
  },
  {
   "cell_type": "code",
   "execution_count": 17,
   "metadata": {
    "execution": {
     "iopub.execute_input": "2023-01-26T02:59:08.553075Z",
     "iopub.status.busy": "2023-01-26T02:59:08.552660Z",
     "iopub.status.idle": "2023-01-26T02:59:08.561997Z",
     "shell.execute_reply": "2023-01-26T02:59:08.561035Z",
     "shell.execute_reply.started": "2023-01-26T02:59:08.553028Z"
    }
   },
   "outputs": [],
   "source": [
    "def create_model():\n",
    "    input1 = tf.keras.Input(shape=(data_train[0].shape[1]))\n",
    "    t1 = tf.keras.layers.Dense(200, activation='relu')(input1)\n",
    "    t1 = tf.keras.layers.Dense(100, activation='relu')(t1)\n",
    "    t1 = tf.keras.layers.Dense(50, activation='sigmoid')(t1)\n",
    "    input2 = keras.Input(shape=(data_train[1].shape[1]))\n",
    "    x = tf.concat([t1, input2],-1)\n",
    "    output = keras.layers.Dense(4, activation='sigmoid')(x)\n",
    "    model = keras.Model(inputs=[input1, input2], outputs=output)\n",
    "    return model\n",
    "    \n"
   ]
  },
  {
   "cell_type": "code",
   "execution_count": 18,
   "metadata": {
    "execution": {
     "iopub.execute_input": "2023-01-26T02:59:08.564032Z",
     "iopub.status.busy": "2023-01-26T02:59:08.563613Z",
     "iopub.status.idle": "2023-01-26T02:59:08.572240Z",
     "shell.execute_reply": "2023-01-26T02:59:08.571090Z",
     "shell.execute_reply.started": "2023-01-26T02:59:08.563997Z"
    }
   },
   "outputs": [],
   "source": [
    "def model_fit(model, data_train, target_train, data_val, target_val):\n",
    "    model.compile(loss='binary_crossentropy',\n",
    "       optimizer='sgd',\n",
    "       metrics=['binary_accuracy'])\n",
    "    early_stopping = tf.keras.callbacks.EarlyStopping(monitor='val_loss', \n",
    "                                                 patience=5)\n",
    "    history = model.fit([data_train[0], data_train[1]], \n",
    "                      target_train, epochs=80,\n",
    "           validation_data=([data_val[0], data_val[1]],\n",
    "                            target_val), callbacks=[early_stopping])\n",
    "    \n",
    "    \n",
    "    "
   ]
  },
  {
   "cell_type": "code",
   "execution_count": 19,
   "metadata": {
    "execution": {
     "iopub.execute_input": "2023-01-26T02:59:08.574221Z",
     "iopub.status.busy": "2023-01-26T02:59:08.573711Z",
     "iopub.status.idle": "2023-01-26T02:59:08.586562Z",
     "shell.execute_reply": "2023-01-26T02:59:08.585464Z",
     "shell.execute_reply.started": "2023-01-26T02:59:08.574185Z"
    }
   },
   "outputs": [],
   "source": [
    "def model_predict(model, data):\n",
    "    y_proba_pred = model.predict([data[0], data[1]])\n",
    "    y_pred = (y_proba_pred >= np.array([0.5, 0.5, 0.5, 0.5]))\n",
    "    return (y_proba_pred, y_pred) "
   ]
  },
  {
   "cell_type": "code",
   "execution_count": 20,
   "metadata": {
    "execution": {
     "iopub.execute_input": "2023-01-26T02:59:08.588925Z",
     "iopub.status.busy": "2023-01-26T02:59:08.588181Z",
     "iopub.status.idle": "2023-01-26T02:59:09.551793Z",
     "shell.execute_reply": "2023-01-26T02:59:09.550779Z",
     "shell.execute_reply.started": "2023-01-26T02:59:08.588890Z"
    }
   },
   "outputs": [],
   "source": [
    "model = create_model()"
   ]
  },
  {
   "cell_type": "code",
   "execution_count": 21,
   "metadata": {
    "execution": {
     "iopub.execute_input": "2023-01-26T02:59:09.553433Z",
     "iopub.status.busy": "2023-01-26T02:59:09.553071Z",
     "iopub.status.idle": "2023-01-26T03:02:41.493047Z",
     "shell.execute_reply": "2023-01-26T03:02:41.491989Z",
     "shell.execute_reply.started": "2023-01-26T02:59:09.553397Z"
    }
   },
   "outputs": [
    {
     "name": "stdout",
     "output_type": "stream",
     "text": [
      "Epoch 1/80\n",
      "389/389 [==============================] - 22s 56ms/step - loss: 0.6466 - binary_accuracy: 0.6326 - val_loss: 0.6090 - val_binary_accuracy: 0.6818\n",
      "Epoch 2/80\n",
      "389/389 [==============================] - 22s 56ms/step - loss: 0.5995 - binary_accuracy: 0.6848 - val_loss: 0.5869 - val_binary_accuracy: 0.6952\n",
      "Epoch 3/80\n",
      "389/389 [==============================] - 27s 71ms/step - loss: 0.5766 - binary_accuracy: 0.6976 - val_loss: 0.5638 - val_binary_accuracy: 0.7122\n",
      "Epoch 4/80\n",
      "389/389 [==============================] - 23s 60ms/step - loss: 0.5507 - binary_accuracy: 0.7179 - val_loss: 0.5365 - val_binary_accuracy: 0.7262\n",
      "Epoch 5/80\n",
      "389/389 [==============================] - 25s 63ms/step - loss: 0.5205 - binary_accuracy: 0.7392 - val_loss: 0.5052 - val_binary_accuracy: 0.7518\n",
      "Epoch 6/80\n",
      "389/389 [==============================] - 24s 63ms/step - loss: 0.4871 - binary_accuracy: 0.7680 - val_loss: 0.4721 - val_binary_accuracy: 0.7834\n",
      "Epoch 7/80\n",
      "389/389 [==============================] - 26s 67ms/step - loss: 0.4536 - binary_accuracy: 0.7993 - val_loss: 0.4406 - val_binary_accuracy: 0.8101\n",
      "Epoch 8/80\n",
      "389/389 [==============================] - 26s 67ms/step - loss: 0.4229 - binary_accuracy: 0.8231 - val_loss: 0.4132 - val_binary_accuracy: 0.8311\n",
      "Epoch 9/80\n",
      "389/389 [==============================] - 29s 75ms/step - loss: 0.3963 - binary_accuracy: 0.8402 - val_loss: 0.3898 - val_binary_accuracy: 0.8455\n",
      "Epoch 10/80\n",
      "389/389 [==============================] - 26s 68ms/step - loss: 0.3733 - binary_accuracy: 0.8533 - val_loss: 0.3700 - val_binary_accuracy: 0.8562\n",
      "Epoch 11/80\n",
      "389/389 [==============================] - 27s 69ms/step - loss: 0.3533 - binary_accuracy: 0.8638 - val_loss: 0.3527 - val_binary_accuracy: 0.8648\n",
      "Epoch 12/80\n",
      "389/389 [==============================] - 27s 69ms/step - loss: 0.3359 - binary_accuracy: 0.8724 - val_loss: 0.3383 - val_binary_accuracy: 0.8697\n",
      "Epoch 13/80\n",
      "389/389 [==============================] - 28s 71ms/step - loss: 0.3210 - binary_accuracy: 0.8791 - val_loss: 0.3258 - val_binary_accuracy: 0.8733\n",
      "Epoch 14/80\n",
      "389/389 [==============================] - 28s 72ms/step - loss: 0.3081 - binary_accuracy: 0.8839 - val_loss: 0.3156 - val_binary_accuracy: 0.8774\n",
      "Epoch 15/80\n",
      "389/389 [==============================] - 30s 78ms/step - loss: 0.2970 - binary_accuracy: 0.8879 - val_loss: 0.3069 - val_binary_accuracy: 0.8804\n",
      "Epoch 16/80\n",
      "389/389 [==============================] - 27s 70ms/step - loss: 0.2873 - binary_accuracy: 0.8918 - val_loss: 0.2993 - val_binary_accuracy: 0.8823\n",
      "Epoch 17/80\n",
      "389/389 [==============================] - 30s 78ms/step - loss: 0.2787 - binary_accuracy: 0.8946 - val_loss: 0.2930 - val_binary_accuracy: 0.8837\n",
      "Epoch 18/80\n",
      "389/389 [==============================] - 27s 69ms/step - loss: 0.2710 - binary_accuracy: 0.8969 - val_loss: 0.2876 - val_binary_accuracy: 0.8856\n",
      "Epoch 19/80\n",
      "389/389 [==============================] - 30s 76ms/step - loss: 0.2641 - binary_accuracy: 0.8993 - val_loss: 0.2828 - val_binary_accuracy: 0.8881\n",
      "Epoch 20/80\n",
      "389/389 [==============================] - 26s 68ms/step - loss: 0.2579 - binary_accuracy: 0.9014 - val_loss: 0.2789 - val_binary_accuracy: 0.8880\n",
      "Epoch 21/80\n",
      "389/389 [==============================] - 27s 69ms/step - loss: 0.2522 - binary_accuracy: 0.9033 - val_loss: 0.2752 - val_binary_accuracy: 0.8898\n",
      "Epoch 22/80\n",
      "389/389 [==============================] - 27s 70ms/step - loss: 0.2469 - binary_accuracy: 0.9054 - val_loss: 0.2722 - val_binary_accuracy: 0.8909\n",
      "Epoch 23/80\n",
      "389/389 [==============================] - 27s 70ms/step - loss: 0.2419 - binary_accuracy: 0.9068 - val_loss: 0.2697 - val_binary_accuracy: 0.8910\n",
      "Epoch 24/80\n",
      "389/389 [==============================] - 28s 72ms/step - loss: 0.2373 - binary_accuracy: 0.9086 - val_loss: 0.2670 - val_binary_accuracy: 0.8927\n",
      "Epoch 25/80\n",
      "389/389 [==============================] - 27s 71ms/step - loss: 0.2331 - binary_accuracy: 0.9101 - val_loss: 0.2651 - val_binary_accuracy: 0.8938\n",
      "Epoch 26/80\n",
      "389/389 [==============================] - 27s 70ms/step - loss: 0.2290 - binary_accuracy: 0.9113 - val_loss: 0.2631 - val_binary_accuracy: 0.8949\n",
      "Epoch 27/80\n",
      "389/389 [==============================] - 30s 77ms/step - loss: 0.2251 - binary_accuracy: 0.9132 - val_loss: 0.2616 - val_binary_accuracy: 0.8953\n",
      "Epoch 28/80\n",
      "389/389 [==============================] - 26s 67ms/step - loss: 0.2215 - binary_accuracy: 0.9144 - val_loss: 0.2604 - val_binary_accuracy: 0.8949\n",
      "Epoch 29/80\n",
      "389/389 [==============================] - 28s 71ms/step - loss: 0.2180 - binary_accuracy: 0.9158 - val_loss: 0.2589 - val_binary_accuracy: 0.8951\n",
      "Epoch 30/80\n",
      "389/389 [==============================] - 28s 71ms/step - loss: 0.2145 - binary_accuracy: 0.9169 - val_loss: 0.2578 - val_binary_accuracy: 0.8959\n",
      "Epoch 31/80\n",
      "389/389 [==============================] - 27s 70ms/step - loss: 0.2113 - binary_accuracy: 0.9187 - val_loss: 0.2569 - val_binary_accuracy: 0.8957\n",
      "Epoch 32/80\n",
      "389/389 [==============================] - 27s 70ms/step - loss: 0.2081 - binary_accuracy: 0.9199 - val_loss: 0.2563 - val_binary_accuracy: 0.8965\n",
      "Epoch 33/80\n",
      "389/389 [==============================] - 28s 72ms/step - loss: 0.2051 - binary_accuracy: 0.9210 - val_loss: 0.2555 - val_binary_accuracy: 0.8968\n",
      "Epoch 34/80\n",
      "389/389 [==============================] - 28s 71ms/step - loss: 0.2021 - binary_accuracy: 0.9225 - val_loss: 0.2549 - val_binary_accuracy: 0.8969\n",
      "Epoch 35/80\n",
      "389/389 [==============================] - 28s 72ms/step - loss: 0.1991 - binary_accuracy: 0.9237 - val_loss: 0.2547 - val_binary_accuracy: 0.8969\n",
      "Epoch 36/80\n",
      "389/389 [==============================] - 28s 72ms/step - loss: 0.1963 - binary_accuracy: 0.9246 - val_loss: 0.2540 - val_binary_accuracy: 0.8977\n",
      "Epoch 37/80\n",
      "389/389 [==============================] - 28s 72ms/step - loss: 0.1935 - binary_accuracy: 0.9259 - val_loss: 0.2538 - val_binary_accuracy: 0.8981\n",
      "Epoch 38/80\n",
      "389/389 [==============================] - 32s 83ms/step - loss: 0.1907 - binary_accuracy: 0.9273 - val_loss: 0.2540 - val_binary_accuracy: 0.8975\n",
      "Epoch 39/80\n",
      "389/389 [==============================] - 28s 73ms/step - loss: 0.1881 - binary_accuracy: 0.9285 - val_loss: 0.2538 - val_binary_accuracy: 0.8974\n",
      "Epoch 40/80\n",
      "389/389 [==============================] - 28s 72ms/step - loss: 0.1854 - binary_accuracy: 0.9294 - val_loss: 0.2535 - val_binary_accuracy: 0.8981\n",
      "Epoch 41/80\n",
      "389/389 [==============================] - 31s 79ms/step - loss: 0.1828 - binary_accuracy: 0.9308 - val_loss: 0.2536 - val_binary_accuracy: 0.8980\n",
      "Epoch 42/80\n",
      "389/389 [==============================] - 27s 70ms/step - loss: 0.1803 - binary_accuracy: 0.9319 - val_loss: 0.2540 - val_binary_accuracy: 0.8971\n",
      "Epoch 43/80\n",
      "389/389 [==============================] - 28s 73ms/step - loss: 0.1777 - binary_accuracy: 0.9329 - val_loss: 0.2540 - val_binary_accuracy: 0.8971\n",
      "Epoch 44/80\n",
      "389/389 [==============================] - 28s 73ms/step - loss: 0.1753 - binary_accuracy: 0.9337 - val_loss: 0.2544 - val_binary_accuracy: 0.8967\n",
      "Epoch 45/80\n",
      "389/389 [==============================] - 30s 78ms/step - loss: 0.1728 - binary_accuracy: 0.9348 - val_loss: 0.2544 - val_binary_accuracy: 0.8972\n"
     ]
    }
   ],
   "source": [
    "model_fit(model, data_train, y_train, data_val, y_val)"
   ]
  },
  {
   "cell_type": "markdown",
   "metadata": {},
   "source": [
    "## 3.2 Model prediction on the test set"
   ]
  },
  {
   "cell_type": "code",
   "execution_count": 22,
   "metadata": {
    "execution": {
     "iopub.execute_input": "2023-01-26T03:02:41.495297Z",
     "iopub.status.busy": "2023-01-26T03:02:41.494933Z",
     "iopub.status.idle": "2023-01-26T03:03:39.325797Z",
     "shell.execute_reply": "2023-01-26T03:03:39.324759Z",
     "shell.execute_reply.started": "2023-01-26T03:02:41.495259Z"
    }
   },
   "outputs": [
    {
     "name": "stdout",
     "output_type": "stream",
     "text": [
      "122/122 [==============================] - 4s 31ms/step\n"
     ]
    }
   ],
   "source": [
    "y_test_proba_pred, y_test_pred = model_predict(model, data_test)"
   ]
  },
  {
   "cell_type": "code",
   "execution_count": 23,
   "metadata": {
    "execution": {
     "iopub.execute_input": "2023-01-26T03:03:39.327545Z",
     "iopub.status.busy": "2023-01-26T03:03:39.327169Z",
     "iopub.status.idle": "2023-01-26T03:03:39.333848Z",
     "shell.execute_reply": "2023-01-26T03:03:39.332854Z",
     "shell.execute_reply.started": "2023-01-26T03:03:39.327507Z"
    }
   },
   "outputs": [],
   "source": [
    "df_test_target_pred = pd.DataFrame(y_test_pred, columns = ['Computer Science', \n",
    "                                               'Physics', 'Mathematics',\n",
    "                                              'Statistics'])"
   ]
  },
  {
   "cell_type": "code",
   "execution_count": 24,
   "metadata": {
    "execution": {
     "iopub.execute_input": "2023-01-26T03:03:39.336117Z",
     "iopub.status.busy": "2023-01-26T03:03:39.335139Z",
     "iopub.status.idle": "2023-01-26T03:03:39.349231Z",
     "shell.execute_reply": "2023-01-26T03:03:39.348209Z",
     "shell.execute_reply.started": "2023-01-26T03:03:39.336080Z"
    }
   },
   "outputs": [],
   "source": [
    "df_test_pred = pd.concat([X_test[['TITLE', 'ABSTRACT']].reset_index(), \n",
    "                          df_test_target_pred], \n",
    "                         axis = 1)"
   ]
  },
  {
   "cell_type": "code",
   "execution_count": 25,
   "metadata": {
    "execution": {
     "iopub.execute_input": "2023-01-26T03:03:39.351029Z",
     "iopub.status.busy": "2023-01-26T03:03:39.350509Z",
     "iopub.status.idle": "2023-01-26T03:03:39.373012Z",
     "shell.execute_reply": "2023-01-26T03:03:39.371832Z",
     "shell.execute_reply.started": "2023-01-26T03:03:39.350992Z"
    }
   },
   "outputs": [
    {
     "name": "stdout",
     "output_type": "stream",
     "text": [
      "Predict tags on papers of the test sets:\n",
      "\n"
     ]
    },
    {
     "data": {
      "text/html": [
       "<div>\n",
       "<style scoped>\n",
       "    .dataframe tbody tr th:only-of-type {\n",
       "        vertical-align: middle;\n",
       "    }\n",
       "\n",
       "    .dataframe tbody tr th {\n",
       "        vertical-align: top;\n",
       "    }\n",
       "\n",
       "    .dataframe thead th {\n",
       "        text-align: right;\n",
       "    }\n",
       "</style>\n",
       "<table border=\"1\" class=\"dataframe\">\n",
       "  <thead>\n",
       "    <tr style=\"text-align: right;\">\n",
       "      <th></th>\n",
       "      <th>index</th>\n",
       "      <th>TITLE</th>\n",
       "      <th>ABSTRACT</th>\n",
       "      <th>Computer Science</th>\n",
       "      <th>Physics</th>\n",
       "      <th>Mathematics</th>\n",
       "      <th>Statistics</th>\n",
       "    </tr>\n",
       "  </thead>\n",
       "  <tbody>\n",
       "    <tr>\n",
       "      <th>0</th>\n",
       "      <td>15978</td>\n",
       "      <td>Concurrent Segmentation and Localization for T...</td>\n",
       "      <td>Real time instrument tracking is a crucial re...</td>\n",
       "      <td>True</td>\n",
       "      <td>False</td>\n",
       "      <td>False</td>\n",
       "      <td>True</td>\n",
       "    </tr>\n",
       "    <tr>\n",
       "      <th>1</th>\n",
       "      <td>17315</td>\n",
       "      <td>Cascaded Incremental Nonlinear Dynamic Inversi...</td>\n",
       "      <td>Micro Aerial Vehicles MAVs are limited in the...</td>\n",
       "      <td>True</td>\n",
       "      <td>False</td>\n",
       "      <td>False</td>\n",
       "      <td>False</td>\n",
       "    </tr>\n",
       "    <tr>\n",
       "      <th>2</th>\n",
       "      <td>7534</td>\n",
       "      <td>The energy momentum tensor of electromagnetic ...</td>\n",
       "      <td>We present a complete resolution of the Abrah...</td>\n",
       "      <td>False</td>\n",
       "      <td>True</td>\n",
       "      <td>False</td>\n",
       "      <td>False</td>\n",
       "    </tr>\n",
       "    <tr>\n",
       "      <th>3</th>\n",
       "      <td>14535</td>\n",
       "      <td>Analytic continuation of Wolynes theory into t...</td>\n",
       "      <td>The Wolynes theory of electronically nonadiab...</td>\n",
       "      <td>False</td>\n",
       "      <td>True</td>\n",
       "      <td>False</td>\n",
       "      <td>False</td>\n",
       "    </tr>\n",
       "    <tr>\n",
       "      <th>4</th>\n",
       "      <td>10868</td>\n",
       "      <td>Query Efficient Black box Adversarial Examples...</td>\n",
       "      <td>Note that this paper is superceded by \"Black ...</td>\n",
       "      <td>True</td>\n",
       "      <td>False</td>\n",
       "      <td>False</td>\n",
       "      <td>False</td>\n",
       "    </tr>\n",
       "    <tr>\n",
       "      <th>...</th>\n",
       "      <td>...</td>\n",
       "      <td>...</td>\n",
       "      <td>...</td>\n",
       "      <td>...</td>\n",
       "      <td>...</td>\n",
       "      <td>...</td>\n",
       "      <td>...</td>\n",
       "    </tr>\n",
       "    <tr>\n",
       "      <th>3884</th>\n",
       "      <td>17487</td>\n",
       "      <td>An Empirical Study of Mini Batch Creation Stra...</td>\n",
       "      <td>Training of neural machine translation NMT mo...</td>\n",
       "      <td>True</td>\n",
       "      <td>False</td>\n",
       "      <td>False</td>\n",
       "      <td>False</td>\n",
       "    </tr>\n",
       "    <tr>\n",
       "      <th>3885</th>\n",
       "      <td>99</td>\n",
       "      <td>Quasi two dimensional Fermi surface topography...</td>\n",
       "      <td>We report on a combined study of the de Haas ...</td>\n",
       "      <td>False</td>\n",
       "      <td>True</td>\n",
       "      <td>False</td>\n",
       "      <td>False</td>\n",
       "    </tr>\n",
       "    <tr>\n",
       "      <th>3886</th>\n",
       "      <td>3689</td>\n",
       "      <td>Two provably consistent divide and conquer clu...</td>\n",
       "      <td>In this article we advance divide and conquer...</td>\n",
       "      <td>True</td>\n",
       "      <td>False</td>\n",
       "      <td>False</td>\n",
       "      <td>True</td>\n",
       "    </tr>\n",
       "    <tr>\n",
       "      <th>3887</th>\n",
       "      <td>9146</td>\n",
       "      <td>Large Sample Asymptotics of the Pseudo Margina...</td>\n",
       "      <td>The pseudo marginal algorithm is a variant of...</td>\n",
       "      <td>False</td>\n",
       "      <td>False</td>\n",
       "      <td>True</td>\n",
       "      <td>True</td>\n",
       "    </tr>\n",
       "    <tr>\n",
       "      <th>3888</th>\n",
       "      <td>13881</td>\n",
       "      <td>A Remote Interface for Live Interaction with O...</td>\n",
       "      <td>Discrete event simulators such as OMNeT++ pro...</td>\n",
       "      <td>True</td>\n",
       "      <td>False</td>\n",
       "      <td>False</td>\n",
       "      <td>False</td>\n",
       "    </tr>\n",
       "  </tbody>\n",
       "</table>\n",
       "<p>3889 rows × 7 columns</p>\n",
       "</div>"
      ],
      "text/plain": [
       "      index                                              TITLE  \\\n",
       "0     15978  Concurrent Segmentation and Localization for T...   \n",
       "1     17315  Cascaded Incremental Nonlinear Dynamic Inversi...   \n",
       "2      7534  The energy momentum tensor of electromagnetic ...   \n",
       "3     14535  Analytic continuation of Wolynes theory into t...   \n",
       "4     10868  Query Efficient Black box Adversarial Examples...   \n",
       "...     ...                                                ...   \n",
       "3884  17487  An Empirical Study of Mini Batch Creation Stra...   \n",
       "3885     99  Quasi two dimensional Fermi surface topography...   \n",
       "3886   3689  Two provably consistent divide and conquer clu...   \n",
       "3887   9146  Large Sample Asymptotics of the Pseudo Margina...   \n",
       "3888  13881  A Remote Interface for Live Interaction with O...   \n",
       "\n",
       "                                               ABSTRACT  Computer Science  \\\n",
       "0      Real time instrument tracking is a crucial re...              True   \n",
       "1      Micro Aerial Vehicles MAVs are limited in the...              True   \n",
       "2      We present a complete resolution of the Abrah...             False   \n",
       "3      The Wolynes theory of electronically nonadiab...             False   \n",
       "4      Note that this paper is superceded by \"Black ...              True   \n",
       "...                                                 ...               ...   \n",
       "3884   Training of neural machine translation NMT mo...              True   \n",
       "3885   We report on a combined study of the de Haas ...             False   \n",
       "3886   In this article we advance divide and conquer...              True   \n",
       "3887   The pseudo marginal algorithm is a variant of...             False   \n",
       "3888   Discrete event simulators such as OMNeT++ pro...              True   \n",
       "\n",
       "      Physics  Mathematics  Statistics  \n",
       "0       False        False        True  \n",
       "1       False        False       False  \n",
       "2        True        False       False  \n",
       "3        True        False       False  \n",
       "4       False        False       False  \n",
       "...       ...          ...         ...  \n",
       "3884    False        False       False  \n",
       "3885     True        False       False  \n",
       "3886    False        False        True  \n",
       "3887    False         True        True  \n",
       "3888    False        False       False  \n",
       "\n",
       "[3889 rows x 7 columns]"
      ]
     },
     "execution_count": 25,
     "metadata": {},
     "output_type": "execute_result"
    }
   ],
   "source": [
    "print('Predict tags on papers of the test sets:\\n')\n",
    "df_test_pred"
   ]
  },
  {
   "cell_type": "code",
   "execution_count": 26,
   "metadata": {
    "execution": {
     "iopub.execute_input": "2023-01-26T03:03:39.375041Z",
     "iopub.status.busy": "2023-01-26T03:03:39.374637Z",
     "iopub.status.idle": "2023-01-26T03:03:39.382485Z",
     "shell.execute_reply": "2023-01-26T03:03:39.381503Z",
     "shell.execute_reply.started": "2023-01-26T03:03:39.375006Z"
    }
   },
   "outputs": [],
   "source": [
    "df_test_target_proba_pred = pd.DataFrame(y_test_proba_pred, \n",
    "                                         columns = ['Computer Science', \n",
    "                                               'Physics', 'Mathematics',\n",
    "                                              'Statistics'])"
   ]
  },
  {
   "cell_type": "code",
   "execution_count": 27,
   "metadata": {
    "execution": {
     "iopub.execute_input": "2023-01-26T03:03:39.389072Z",
     "iopub.status.busy": "2023-01-26T03:03:39.388600Z",
     "iopub.status.idle": "2023-01-26T03:03:39.397107Z",
     "shell.execute_reply": "2023-01-26T03:03:39.396153Z",
     "shell.execute_reply.started": "2023-01-26T03:03:39.389037Z"
    }
   },
   "outputs": [],
   "source": [
    "df_test_proba_pred = pd.concat([X_test[['TITLE', 'ABSTRACT']].reset_index(), \n",
    "                                df_test_target_proba_pred], \n",
    "                         axis = 1)"
   ]
  },
  {
   "cell_type": "code",
   "execution_count": 28,
   "metadata": {
    "execution": {
     "iopub.execute_input": "2023-01-26T03:03:39.399229Z",
     "iopub.status.busy": "2023-01-26T03:03:39.398737Z",
     "iopub.status.idle": "2023-01-26T03:03:39.419313Z",
     "shell.execute_reply": "2023-01-26T03:03:39.418200Z",
     "shell.execute_reply.started": "2023-01-26T03:03:39.399193Z"
    }
   },
   "outputs": [
    {
     "name": "stdout",
     "output_type": "stream",
     "text": [
      "Predict tag probability on papers of the test sets:\n",
      "\n"
     ]
    },
    {
     "data": {
      "text/html": [
       "<div>\n",
       "<style scoped>\n",
       "    .dataframe tbody tr th:only-of-type {\n",
       "        vertical-align: middle;\n",
       "    }\n",
       "\n",
       "    .dataframe tbody tr th {\n",
       "        vertical-align: top;\n",
       "    }\n",
       "\n",
       "    .dataframe thead th {\n",
       "        text-align: right;\n",
       "    }\n",
       "</style>\n",
       "<table border=\"1\" class=\"dataframe\">\n",
       "  <thead>\n",
       "    <tr style=\"text-align: right;\">\n",
       "      <th></th>\n",
       "      <th>index</th>\n",
       "      <th>TITLE</th>\n",
       "      <th>ABSTRACT</th>\n",
       "      <th>Computer Science</th>\n",
       "      <th>Physics</th>\n",
       "      <th>Mathematics</th>\n",
       "      <th>Statistics</th>\n",
       "    </tr>\n",
       "  </thead>\n",
       "  <tbody>\n",
       "    <tr>\n",
       "      <th>0</th>\n",
       "      <td>15978</td>\n",
       "      <td>Concurrent Segmentation and Localization for T...</td>\n",
       "      <td>Real time instrument tracking is a crucial re...</td>\n",
       "      <td>0.896429</td>\n",
       "      <td>0.011701</td>\n",
       "      <td>0.013086</td>\n",
       "      <td>0.527511</td>\n",
       "    </tr>\n",
       "    <tr>\n",
       "      <th>1</th>\n",
       "      <td>17315</td>\n",
       "      <td>Cascaded Incremental Nonlinear Dynamic Inversi...</td>\n",
       "      <td>Micro Aerial Vehicles MAVs are limited in the...</td>\n",
       "      <td>0.661068</td>\n",
       "      <td>0.163869</td>\n",
       "      <td>0.302951</td>\n",
       "      <td>0.002308</td>\n",
       "    </tr>\n",
       "    <tr>\n",
       "      <th>2</th>\n",
       "      <td>7534</td>\n",
       "      <td>The energy momentum tensor of electromagnetic ...</td>\n",
       "      <td>We present a complete resolution of the Abrah...</td>\n",
       "      <td>0.007013</td>\n",
       "      <td>0.998491</td>\n",
       "      <td>0.004217</td>\n",
       "      <td>0.001051</td>\n",
       "    </tr>\n",
       "    <tr>\n",
       "      <th>3</th>\n",
       "      <td>14535</td>\n",
       "      <td>Analytic continuation of Wolynes theory into t...</td>\n",
       "      <td>The Wolynes theory of electronically nonadiab...</td>\n",
       "      <td>0.004369</td>\n",
       "      <td>0.991787</td>\n",
       "      <td>0.063744</td>\n",
       "      <td>0.002285</td>\n",
       "    </tr>\n",
       "    <tr>\n",
       "      <th>4</th>\n",
       "      <td>10868</td>\n",
       "      <td>Query Efficient Black box Adversarial Examples...</td>\n",
       "      <td>Note that this paper is superceded by \"Black ...</td>\n",
       "      <td>0.980559</td>\n",
       "      <td>0.003404</td>\n",
       "      <td>0.015650</td>\n",
       "      <td>0.257105</td>\n",
       "    </tr>\n",
       "    <tr>\n",
       "      <th>...</th>\n",
       "      <td>...</td>\n",
       "      <td>...</td>\n",
       "      <td>...</td>\n",
       "      <td>...</td>\n",
       "      <td>...</td>\n",
       "      <td>...</td>\n",
       "      <td>...</td>\n",
       "    </tr>\n",
       "    <tr>\n",
       "      <th>3884</th>\n",
       "      <td>17487</td>\n",
       "      <td>An Empirical Study of Mini Batch Creation Stra...</td>\n",
       "      <td>Training of neural machine translation NMT mo...</td>\n",
       "      <td>0.921358</td>\n",
       "      <td>0.028754</td>\n",
       "      <td>0.005103</td>\n",
       "      <td>0.321339</td>\n",
       "    </tr>\n",
       "    <tr>\n",
       "      <th>3885</th>\n",
       "      <td>99</td>\n",
       "      <td>Quasi two dimensional Fermi surface topography...</td>\n",
       "      <td>We report on a combined study of the de Haas ...</td>\n",
       "      <td>0.017885</td>\n",
       "      <td>0.983432</td>\n",
       "      <td>0.034108</td>\n",
       "      <td>0.003939</td>\n",
       "    </tr>\n",
       "    <tr>\n",
       "      <th>3886</th>\n",
       "      <td>3689</td>\n",
       "      <td>Two provably consistent divide and conquer clu...</td>\n",
       "      <td>In this article we advance divide and conquer...</td>\n",
       "      <td>0.880557</td>\n",
       "      <td>0.005279</td>\n",
       "      <td>0.109164</td>\n",
       "      <td>0.584815</td>\n",
       "    </tr>\n",
       "    <tr>\n",
       "      <th>3887</th>\n",
       "      <td>9146</td>\n",
       "      <td>Large Sample Asymptotics of the Pseudo Margina...</td>\n",
       "      <td>The pseudo marginal algorithm is a variant of...</td>\n",
       "      <td>0.084300</td>\n",
       "      <td>0.005899</td>\n",
       "      <td>0.664246</td>\n",
       "      <td>0.977860</td>\n",
       "    </tr>\n",
       "    <tr>\n",
       "      <th>3888</th>\n",
       "      <td>13881</td>\n",
       "      <td>A Remote Interface for Live Interaction with O...</td>\n",
       "      <td>Discrete event simulators such as OMNeT++ pro...</td>\n",
       "      <td>0.873876</td>\n",
       "      <td>0.193249</td>\n",
       "      <td>0.005584</td>\n",
       "      <td>0.185976</td>\n",
       "    </tr>\n",
       "  </tbody>\n",
       "</table>\n",
       "<p>3889 rows × 7 columns</p>\n",
       "</div>"
      ],
      "text/plain": [
       "      index                                              TITLE  \\\n",
       "0     15978  Concurrent Segmentation and Localization for T...   \n",
       "1     17315  Cascaded Incremental Nonlinear Dynamic Inversi...   \n",
       "2      7534  The energy momentum tensor of electromagnetic ...   \n",
       "3     14535  Analytic continuation of Wolynes theory into t...   \n",
       "4     10868  Query Efficient Black box Adversarial Examples...   \n",
       "...     ...                                                ...   \n",
       "3884  17487  An Empirical Study of Mini Batch Creation Stra...   \n",
       "3885     99  Quasi two dimensional Fermi surface topography...   \n",
       "3886   3689  Two provably consistent divide and conquer clu...   \n",
       "3887   9146  Large Sample Asymptotics of the Pseudo Margina...   \n",
       "3888  13881  A Remote Interface for Live Interaction with O...   \n",
       "\n",
       "                                               ABSTRACT  Computer Science  \\\n",
       "0      Real time instrument tracking is a crucial re...          0.896429   \n",
       "1      Micro Aerial Vehicles MAVs are limited in the...          0.661068   \n",
       "2      We present a complete resolution of the Abrah...          0.007013   \n",
       "3      The Wolynes theory of electronically nonadiab...          0.004369   \n",
       "4      Note that this paper is superceded by \"Black ...          0.980559   \n",
       "...                                                 ...               ...   \n",
       "3884   Training of neural machine translation NMT mo...          0.921358   \n",
       "3885   We report on a combined study of the de Haas ...          0.017885   \n",
       "3886   In this article we advance divide and conquer...          0.880557   \n",
       "3887   The pseudo marginal algorithm is a variant of...          0.084300   \n",
       "3888   Discrete event simulators such as OMNeT++ pro...          0.873876   \n",
       "\n",
       "       Physics  Mathematics  Statistics  \n",
       "0     0.011701     0.013086    0.527511  \n",
       "1     0.163869     0.302951    0.002308  \n",
       "2     0.998491     0.004217    0.001051  \n",
       "3     0.991787     0.063744    0.002285  \n",
       "4     0.003404     0.015650    0.257105  \n",
       "...        ...          ...         ...  \n",
       "3884  0.028754     0.005103    0.321339  \n",
       "3885  0.983432     0.034108    0.003939  \n",
       "3886  0.005279     0.109164    0.584815  \n",
       "3887  0.005899     0.664246    0.977860  \n",
       "3888  0.193249     0.005584    0.185976  \n",
       "\n",
       "[3889 rows x 7 columns]"
      ]
     },
     "execution_count": 28,
     "metadata": {},
     "output_type": "execute_result"
    }
   ],
   "source": [
    "print('Predict tag probability on papers of the test sets:\\n')\n",
    "df_test_proba_pred"
   ]
  },
  {
   "cell_type": "markdown",
   "metadata": {},
   "source": [
    "## 4. Model performance evaluation"
   ]
  },
  {
   "cell_type": "markdown",
   "metadata": {},
   "source": [
    "## 4.1 Performance on Computer Science subject"
   ]
  },
  {
   "cell_type": "code",
   "execution_count": 29,
   "metadata": {
    "execution": {
     "iopub.execute_input": "2023-01-26T03:03:39.421348Z",
     "iopub.status.busy": "2023-01-26T03:03:39.420979Z",
     "iopub.status.idle": "2023-01-26T03:03:39.432671Z",
     "shell.execute_reply": "2023-01-26T03:03:39.431549Z",
     "shell.execute_reply.started": "2023-01-26T03:03:39.421312Z"
    }
   },
   "outputs": [
    {
     "name": "stdout",
     "output_type": "stream",
     "text": [
      "The AUC socre: 0.9331605786714148\n"
     ]
    }
   ],
   "source": [
    "print('The AUC socre:', \n",
    "      roc_auc_score(y_test['Computer Science'], \n",
    "                    df_test_proba_pred['Computer Science']))"
   ]
  },
  {
   "cell_type": "code",
   "execution_count": 30,
   "metadata": {
    "execution": {
     "iopub.execute_input": "2023-01-26T03:03:39.434904Z",
     "iopub.status.busy": "2023-01-26T03:03:39.434477Z",
     "iopub.status.idle": "2023-01-26T03:03:39.452539Z",
     "shell.execute_reply": "2023-01-26T03:03:39.451305Z",
     "shell.execute_reply.started": "2023-01-26T03:03:39.434870Z"
    }
   },
   "outputs": [
    {
     "name": "stdout",
     "output_type": "stream",
     "text": [
      "Classification report:\n",
      "               precision    recall  f1-score   support\n",
      "\n",
      "           0       0.89      0.87      0.88      2223\n",
      "           1       0.83      0.86      0.85      1666\n",
      "\n",
      "    accuracy                           0.87      3889\n",
      "   macro avg       0.86      0.87      0.86      3889\n",
      "weighted avg       0.87      0.87      0.87      3889\n",
      "\n"
     ]
    }
   ],
   "source": [
    "print('Classification report:\\n', \n",
    "      classification_report(y_test['Computer Science'], df_test_pred['Computer Science']))"
   ]
  },
  {
   "cell_type": "markdown",
   "metadata": {},
   "source": [
    "## 4.2 Performance on Physics subject"
   ]
  },
  {
   "cell_type": "code",
   "execution_count": 31,
   "metadata": {
    "execution": {
     "iopub.execute_input": "2023-01-26T03:03:39.454498Z",
     "iopub.status.busy": "2023-01-26T03:03:39.454237Z",
     "iopub.status.idle": "2023-01-26T03:03:39.466156Z",
     "shell.execute_reply": "2023-01-26T03:03:39.464984Z",
     "shell.execute_reply.started": "2023-01-26T03:03:39.454473Z"
    }
   },
   "outputs": [
    {
     "name": "stdout",
     "output_type": "stream",
     "text": [
      "The AUC socre: 0.9716647232277039\n"
     ]
    }
   ],
   "source": [
    "print('The AUC socre:', \n",
    "      roc_auc_score(y_test['Physics'], df_test_proba_pred['Physics']))"
   ]
  },
  {
   "cell_type": "code",
   "execution_count": 32,
   "metadata": {
    "execution": {
     "iopub.execute_input": "2023-01-26T03:03:39.468292Z",
     "iopub.status.busy": "2023-01-26T03:03:39.467564Z",
     "iopub.status.idle": "2023-01-26T03:03:39.484478Z",
     "shell.execute_reply": "2023-01-26T03:03:39.483589Z",
     "shell.execute_reply.started": "2023-01-26T03:03:39.468257Z"
    }
   },
   "outputs": [
    {
     "name": "stdout",
     "output_type": "stream",
     "text": [
      "Classification report:\n",
      "               precision    recall  f1-score   support\n",
      "\n",
      "           0       0.94      0.97      0.96      2733\n",
      "           1       0.93      0.86      0.90      1156\n",
      "\n",
      "    accuracy                           0.94      3889\n",
      "   macro avg       0.94      0.92      0.93      3889\n",
      "weighted avg       0.94      0.94      0.94      3889\n",
      "\n"
     ]
    }
   ],
   "source": [
    "print('Classification report:\\n', \n",
    "      classification_report(y_test['Physics'], df_test_pred['Physics']))"
   ]
  },
  {
   "cell_type": "markdown",
   "metadata": {},
   "source": [
    "## 4.3 Performance on Mathematics subject "
   ]
  },
  {
   "cell_type": "code",
   "execution_count": 33,
   "metadata": {
    "execution": {
     "iopub.execute_input": "2023-01-26T03:03:39.487512Z",
     "iopub.status.busy": "2023-01-26T03:03:39.486878Z",
     "iopub.status.idle": "2023-01-26T03:03:39.495871Z",
     "shell.execute_reply": "2023-01-26T03:03:39.494784Z",
     "shell.execute_reply.started": "2023-01-26T03:03:39.487429Z"
    }
   },
   "outputs": [
    {
     "name": "stdout",
     "output_type": "stream",
     "text": [
      "The AUC socre: 0.9503322653376053\n"
     ]
    }
   ],
   "source": [
    "print('The AUC socre:', \n",
    "      roc_auc_score(y_test['Mathematics'], \n",
    "                    df_test_proba_pred['Mathematics']))"
   ]
  },
  {
   "cell_type": "code",
   "execution_count": 34,
   "metadata": {
    "execution": {
     "iopub.execute_input": "2023-01-26T03:03:39.498124Z",
     "iopub.status.busy": "2023-01-26T03:03:39.497262Z",
     "iopub.status.idle": "2023-01-26T03:03:39.513671Z",
     "shell.execute_reply": "2023-01-26T03:03:39.512892Z",
     "shell.execute_reply.started": "2023-01-26T03:03:39.498083Z"
    }
   },
   "outputs": [
    {
     "name": "stdout",
     "output_type": "stream",
     "text": [
      "Classification report:\n",
      "               precision    recall  f1-score   support\n",
      "\n",
      "           0       0.92      0.94      0.93      2809\n",
      "           1       0.84      0.79      0.82      1080\n",
      "\n",
      "    accuracy                           0.90      3889\n",
      "   macro avg       0.88      0.87      0.87      3889\n",
      "weighted avg       0.90      0.90      0.90      3889\n",
      "\n"
     ]
    }
   ],
   "source": [
    "print('Classification report:\\n', \n",
    "      classification_report(y_test['Mathematics'], \n",
    "                            df_test_pred['Mathematics']))"
   ]
  },
  {
   "cell_type": "markdown",
   "metadata": {},
   "source": [
    "## 4.4 Performance on Statistics subject"
   ]
  },
  {
   "cell_type": "code",
   "execution_count": 35,
   "metadata": {
    "execution": {
     "iopub.execute_input": "2023-01-26T03:03:39.515417Z",
     "iopub.status.busy": "2023-01-26T03:03:39.514845Z",
     "iopub.status.idle": "2023-01-26T03:03:39.524117Z",
     "shell.execute_reply": "2023-01-26T03:03:39.522995Z",
     "shell.execute_reply.started": "2023-01-26T03:03:39.515383Z"
    }
   },
   "outputs": [
    {
     "name": "stdout",
     "output_type": "stream",
     "text": [
      "The AUC socre: 0.9363249453232647\n"
     ]
    }
   ],
   "source": [
    "print('The AUC socre:', \n",
    "      roc_auc_score(y_test['Statistics'], \n",
    "                    df_test_proba_pred['Statistics']))"
   ]
  },
  {
   "cell_type": "code",
   "execution_count": 36,
   "metadata": {
    "execution": {
     "iopub.execute_input": "2023-01-26T03:03:39.526483Z",
     "iopub.status.busy": "2023-01-26T03:03:39.525790Z",
     "iopub.status.idle": "2023-01-26T03:03:39.542246Z",
     "shell.execute_reply": "2023-01-26T03:03:39.541179Z",
     "shell.execute_reply.started": "2023-01-26T03:03:39.526444Z"
    }
   },
   "outputs": [
    {
     "name": "stdout",
     "output_type": "stream",
     "text": [
      "Classification report:\n",
      "               precision    recall  f1-score   support\n",
      "\n",
      "           0       0.91      0.93      0.92      2921\n",
      "           1       0.77      0.74      0.75       968\n",
      "\n",
      "    accuracy                           0.88      3889\n",
      "   macro avg       0.84      0.83      0.84      3889\n",
      "weighted avg       0.88      0.88      0.88      3889\n",
      "\n"
     ]
    }
   ],
   "source": [
    "print('Classification report:\\n', \n",
    "      classification_report(y_test['Statistics'], \n",
    "                            df_test_pred['Statistics']))"
   ]
  }
 ],
 "metadata": {
  "kernelspec": {
   "display_name": "Python 3 (ipykernel)",
   "language": "python",
   "name": "python3"
  },
  "language_info": {
   "codemirror_mode": {
    "name": "ipython",
    "version": 3
   },
   "file_extension": ".py",
   "mimetype": "text/x-python",
   "name": "python",
   "nbconvert_exporter": "python",
   "pygments_lexer": "ipython3",
   "version": "3.9.13"
  }
 },
 "nbformat": 4,
 "nbformat_minor": 4
}
